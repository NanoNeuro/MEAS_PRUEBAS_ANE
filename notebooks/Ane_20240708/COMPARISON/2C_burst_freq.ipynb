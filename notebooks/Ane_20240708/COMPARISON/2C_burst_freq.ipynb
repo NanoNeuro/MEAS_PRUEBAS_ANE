{
 "cells": [
  {
   "cell_type": "code",
   "execution_count": null,
   "metadata": {},
   "outputs": [],
   "source": [
    "import pandas as pd\n",
    "import matplotlib.pyplot as plt\n",
    "import matplotlib as mpl\n",
    "import numpy as np\n",
    "import time\n",
    "import datetime as dt\n",
    "import os\n",
    "import seaborn as sns\n",
    "import scipy.stats as sts\n",
    "\n",
    "import random\n",
    "import string\n",
    "\n",
    "import plotly.express as px\n",
    "import plotly.graph_objects as go"
   ]
  },
  {
   "cell_type": "code",
   "execution_count": null,
   "metadata": {},
   "outputs": [],
   "source": [
    "from nb_vars import FOLDER_INTERMEDIATE, FOLDER_OUTPUT, CUTOFF_SPIKES_HZ"
   ]
  },
  {
   "cell_type": "markdown",
   "metadata": {},
   "source": [
    "## Load df of filtered peaks"
   ]
  },
  {
   "cell_type": "code",
   "execution_count": null,
   "metadata": {},
   "outputs": [],
   "source": [
    "CONDITION_NAME = \"pulse_duration\"\n",
    "CONDITION = \"200\""
   ]
  },
  {
   "cell_type": "code",
   "execution_count": null,
   "metadata": {},
   "outputs": [],
   "source": [
    "df_peaks = pd.read_csv(f'{FOLDER_INTERMEDIATE}/df_peaks_full_{CONDITION_NAME}_{CONDITION}_freq_{CUTOFF_SPIKES_HZ}.csv')"
   ]
  },
  {
   "cell_type": "code",
   "execution_count": null,
   "metadata": {},
   "outputs": [],
   "source": [
    "df_peaks"
   ]
  },
  {
   "cell_type": "markdown",
   "metadata": {},
   "source": [
    "## Analysis of burst frequency\n",
    "\n",
    "The burst frequency is analysed using a sliding window of 0.1 seconds (or any other measure), and selecting timepoint sets where there is a relevant increase in summed signal. To find a threshold we are going to use a knee method of the distribution of the signal."
   ]
  },
  {
   "cell_type": "code",
   "execution_count": null,
   "metadata": {},
   "outputs": [],
   "source": [
    "from kneed import DataGenerator, KneeLocator"
   ]
  },
  {
   "attachments": {
    "image.png": {
     "image/png": "[encoded data removed]"
    }
   },
   "cell_type": "markdown",
   "metadata": {},
   "source": [
    "The analysis of burst frequency produces a list of the putative bursts; and for each burst it shows the interval (begin - end) and the point with maximum signal. We also retrieve the number of counts at the peak, and the area of the peak. To compute these points we follow these steps:\n",
    "1) We divide the time into windows with length `TW`. `TW` = 0.02 records the sum of spikes within each 20 ms. For each window we also compute the mean time to have a n-sized list (the list fo windows is n+1).\n",
    "2) We count the number of events laying in the window, across all selected electrodes. To normalise the signal, we divide the number of counts by the number of active electrodes and by `TW` (so we obtain a **number of counts per electrode and per second**). This normalisation step is not necessary, but for intermediate checks and comparisons between wells might be useful. It is also useful to compare results with different `TW` values. In any case, this step does not affect the overall number of detected peaks. \n",
    "3) To select a cutoff that is not the same for all wells, we are going to use a knee method. If we plot the number of counts using their rank, we get a interesting distribution: \n",
    "\n",
    "![image.png](attachment:image.png)\n",
    "\n",
    "There are only a few points with a lot of signal, which is the cutoff of the method. On the other end we get a lot of points with almost no signal (these are likely noise and the extremes of the peaks). Then in the middle we get a slope without curve, that represent most of the peaks. Because the peaks are \"likely\" to be triangular, there is no curve; which means a positive and a negative thing. A positive thing is that most of the peaks are already defined and, when we lower the threshold, what we are really doing is just selecting a broader area of the peak, and not newer peaks. The negative part is that getting a decent cutoff is not that easy, and the true cutoff will be arbitrary.  \n",
    "\n",
    "Therefore, the \"true\" cutoff will be `PER_MIN` * CUTOFF. This `PER_MIN`value is arbitrary, but a value between 0.05 and 0.2 covers all the relevant bursts without merging individual but really joint bursts. \n",
    "\n",
    "4) With cutoff points, bursts are defined as time sets where all points exists (that is, at time t, t+1, t+2, ..., t+n the counts have to be higher than the cutoff). \n",
    "5) Interval merging: if two intervals are separated by less than `SEP`, they are merged. This may be because two separate intervals are in fact one joint interval, but because the signal is not so high, it is divided in two intervals.\n",
    "6) If the length of the interval (in timepoints) is smaller than `MIN_INTERVAL`, the interval is discarded. This is to make sure that bursts with very small timesets are discarded. These burst may have lower signals and are likely to be a result of noise or be present in few electrodes.\n",
    "7) `TW`rescaling: to save the data of times for each interval and peak point, the results are multiplied by `TW`to convert from timeframe to time. This is interesting because we can use different `TW` values and compare the similarity of the results."
   ]
  },
  {
   "cell_type": "code",
   "execution_count": null,
   "metadata": {},
   "outputs": [],
   "source": [
    "TW= 0.01\n",
    "PER_MIN = 0.10\n",
    "SEP, MIN_INTERVAL = 15, 7\n",
    "\n",
    "\n",
    "df_burst = pd.DataFrame(columns=['well', 'condition', 'replicate', 'burst_peak', 'peak_val', 'burst_interval', 'interval_length', 'interval_sum', 'interval_diff'])\n",
    "\n",
    "list_wells = df_peaks['well'].drop_duplicates().values\n",
    "list_conditions = df_peaks.drop_duplicates('well')['condition']\n",
    "list_replicates = df_peaks.drop_duplicates('well')['replicate']\n",
    "\n",
    "for well, condition, replicate in zip(list_wells, list_conditions, list_replicates):\n",
    "    df_peaks_well = df_peaks[df_peaks['well'] == well]\n",
    "\n",
    "    # Divide by TW into even-sized window frames.\n",
    "    time_ranges = np.arange(np.min(df_peaks_well['time']) , np.max(df_peaks_well['time']) , TW)\n",
    "    time_ranges_mean = (time_ranges[1:] + time_ranges[:-1]) * 0.5 \n",
    "\n",
    "    # Compute counts and normalize\n",
    "    counts = np.array([len(df_peaks_well[(df_peaks_well['time'] >= start) & (df_peaks_well['time'] < end)]) for start, end in zip(time_ranges[:-1], time_ranges[1: ])], dtype=np.float64)\n",
    "    counts /= (len(df_peaks_well.electrode.drop_duplicates()) * TW)\n",
    "\n",
    "    # Find Knee point\n",
    "    kneedle = KneeLocator(np.arange(len(counts[counts>0])) , np.sort(counts[counts>0]) , S=4.0, curve=\"convex\", direction=\"increasing\")\n",
    "    # kneedle.plot_knee()\n",
    "    cutoff_min = PER_MIN * kneedle.knee_y\n",
    "\n",
    "    # Select the positive times\n",
    "    data = counts>cutoff_min\n",
    "\n",
    "    # Create the intervals\n",
    "    change_indices = np.diff(data, prepend=0, append=0)\n",
    "\n",
    "    start_indices = np.where(change_indices == 1)[0]\n",
    "    end_indices = np.where(change_indices == -1)[0] - 1\n",
    "    intervals = list(zip(start_indices, end_indices))\n",
    "\n",
    "    # Merge intervals\n",
    "    merged_intervals = []\n",
    "    current_start, current_end = intervals[0]\n",
    "\n",
    "    for start, end in intervals[1:]:\n",
    "        if start - current_end - 1 < SEP:\n",
    "            current_end = end\n",
    "        else:\n",
    "            merged_intervals.append((current_start, current_end))\n",
    "            current_start, current_end = start, end\n",
    "\n",
    "    merged_intervals.append((current_start, current_end))\n",
    "\n",
    "    # Remove intervals shorter than MIN_INTERVAL\n",
    "    filtered_intervals = [(start, end) for start, end in merged_intervals if end - start + 1 >= MIN_INTERVAL]\n",
    "\n",
    "    max_count_indices = []\n",
    "    for start, end in filtered_intervals:\n",
    "        max_index_within_interval = start + np.argmax(counts[start:end + 1])\n",
    "        max_count_indices.append(max_index_within_interval)\n",
    "\n",
    "    max_count_indices = np.array(max_count_indices)\n",
    "    \n",
    "    # Apply TW reescaling\n",
    "    interval_sums = [counts[a:b].sum() for (a,b) in filtered_intervals]\n",
    "    filtered_intervals = [(time_ranges[a] + TW/2 , time_ranges[b] + TW/2) for (a,b) in filtered_intervals]\n",
    "    interval_lengths = [b-a for (a,b) in filtered_intervals]\n",
    "    interval_diff = [filtered_intervals[0][0]] + [filtered_intervals[idx + 1][0] - filtered_intervals[idx][1] for idx in range(len(filtered_intervals) - 1)]\n",
    "    \n",
    "    peak_vals = counts[max_count_indices]\n",
    "    max_count_indices = time_ranges[max_count_indices] + TW/2\n",
    "\n",
    "    iloc_diff = len(max_count_indices)\n",
    "\n",
    "    df_burst_i = pd.DataFrame({'well': [well] * iloc_diff, 'condition': [condition] * iloc_diff, 'replicate': [replicate] * iloc_diff, \n",
    "                               'burst_peak': max_count_indices, 'peak_val': peak_vals, 'burst_interval': filtered_intervals, 'interval_length': interval_lengths, 'interval_sum': interval_sums, 'interval_diff': interval_diff})\n",
    "\n",
    "    df_burst = pd.concat([df_burst, df_burst_i])"
   ]
  },
  {
   "cell_type": "code",
   "execution_count": null,
   "metadata": {},
   "outputs": [],
   "source": [
    "df_burst"
   ]
  },
  {
   "cell_type": "code",
   "execution_count": null,
   "metadata": {},
   "outputs": [],
   "source": [
    "df_peaks"
   ]
  },
  {
   "cell_type": "code",
   "execution_count": null,
   "metadata": {},
   "outputs": [],
   "source": [
    "well = 'A1'\n",
    "\n",
    "df_peaks_well = df_peaks[df_peaks['well'] == well]\n",
    "df_burst_well = df_burst[df_burst['well'] == well]\n",
    "\n",
    "# Divide by TW into even-sized window frames.\n",
    "time_ranges = np.arange(np.min(df_peaks_well['time']) , np.max(df_peaks_well['time']) , TW)\n",
    "time_ranges_mean = (time_ranges[1:] + time_ranges[:-1]) * 0.5 \n",
    "\n",
    "# Compute counts and normalize\n",
    "counts = np.array([len(df_peaks_well[(df_peaks_well['time'] >= start) & (df_peaks_well['time'] < end)]) for start, end in zip(time_ranges[:-1], time_ranges[1: ])], dtype=np.float64)\n",
    "counts /= (len(df_peaks_well.electrode.drop_duplicates()) * TW)\n"
   ]
  },
  {
   "cell_type": "code",
   "execution_count": null,
   "metadata": {},
   "outputs": [],
   "source": [
    "cutoff_min"
   ]
  },
  {
   "cell_type": "code",
   "execution_count": null,
   "metadata": {},
   "outputs": [],
   "source": [
    "fig = px.scatter(x=df_burst_well['burst_peak'], y=[-0.05 * np.max(counts)] * len(df_burst_well))\n",
    "\n",
    "\n",
    "for interval in df_burst_well['burst_interval'].values:\n",
    "    fig.add_trace(go.Scatter(x=interval, y=[-0.02 * np.max(counts)] * 2, mode=\"lines\"))\n",
    "\n",
    "fig.add_trace(go.Scatter(x=time_ranges_mean, y=counts, mode=\"lines\"))"
   ]
  },
  {
   "cell_type": "code",
   "execution_count": null,
   "metadata": {},
   "outputs": [],
   "source": [
    "fig = px.scatter(x=df_peaks_well['time'], y=((df_peaks_well['electrode'] // 10 - 1) * 4  + df_peaks_well['electrode'] % 10).values)\n",
    "\n",
    "\n",
    "for interval in df_burst_well['burst_interval'].values:\n",
    "    fig.add_trace(go.Scatter(x=interval, y=[-1] * 2, mode=\"lines\"))\n",
    "\n",
    "\n",
    "# fig.add_trace(go.Scatter(x=time_ranges_mean, y=counts, mode=\"lines\"))\n",
    "fig.show()"
   ]
  },
  {
   "cell_type": "markdown",
   "metadata": {},
   "source": [
    "# Compute aggregated stats\n",
    "\n",
    "* Burst rate per well, measured as the number of burst in the whole interval * 60 -> # bursts per minute\n",
    "* Inter burst distribution, measured as the difference between the end onf one interval and the beginning of the next; and mean value\n",
    "* Peak height distribution; and mean value\n",
    "* Interval length distribution; and mean value"
   ]
  },
  {
   "cell_type": "code",
   "execution_count": null,
   "metadata": {},
   "outputs": [],
   "source": [
    "df_burst"
   ]
  },
  {
   "cell_type": "code",
   "execution_count": null,
   "metadata": {},
   "outputs": [],
   "source": [
    "df_stats = pd.DataFrame(index=list_wells, columns=['condition', 'replicate', 'burst_rate', 'expected_peak_val', 'expected_interval_length', 'expected_interval_sum', 'expected_interval_diff'])\n",
    "\n",
    "for well, condition, replicate in zip(list_wells, list_conditions, list_replicates):\n",
    "    df_burst_well = df_burst[df_burst['well'] == well]\n",
    "    df_stats.loc[well, 'condition'] = condition\n",
    "    df_stats.loc[well, 'replicate'] = replicate\n",
    "    df_stats.loc[well, 'burst_rate'] = len(df_burst_well) * 60 / (df_peaks['time'].max() - df_peaks['time'].min())\n",
    "    df_stats.loc[well, 'expected_peak_val'] = df_burst_well['peak_val'].mean()\n",
    "    df_stats.loc[well, 'expected_interval_length'] = df_burst_well['interval_length'].mean()\n",
    "    df_stats.loc[well, 'expected_interval_sum'] = df_burst_well['interval_sum'].mean()\n",
    "    df_stats.loc[well, 'expected_interval_diff'] = df_burst_well['interval_diff'].mean()\n",
    "\n",
    "df_stats = df_stats.reset_index(names='well')\n"
   ]
  },
  {
   "cell_type": "code",
   "execution_count": null,
   "metadata": {},
   "outputs": [],
   "source": [
    "df_stats"
   ]
  },
  {
   "cell_type": "markdown",
   "metadata": {},
   "source": [
    "# Plot stats"
   ]
  },
  {
   "cell_type": "code",
   "execution_count": null,
   "metadata": {},
   "outputs": [],
   "source": [
    "fig, ax = plt.subplots(1, 1, figsize = (30, 7))\n",
    "sns.boxplot(data = df_burst, x='condition', y='peak_val', hue='replicate')\n",
    "\n",
    "fig, ax = plt.subplots(1, 1, figsize = (30, 7))\n",
    "sns.boxplot(data = df_stats, x='condition', y='expected_peak_val')"
   ]
  },
  {
   "cell_type": "code",
   "execution_count": null,
   "metadata": {},
   "outputs": [],
   "source": [
    "fig, ax = plt.subplots(1, 1, figsize = (30, 7))\n",
    "sns.boxplot(data = df_burst, x='condition', y='interval_length', hue='replicate')\n",
    "\n",
    "fig, ax = plt.subplots(1, 1, figsize = (30, 7))\n",
    "sns.boxplot(data = df_stats, x='condition', y='expected_interval_length')"
   ]
  },
  {
   "cell_type": "code",
   "execution_count": null,
   "metadata": {},
   "outputs": [],
   "source": [
    "fig, ax = plt.subplots(1, 1, figsize = (30, 7))\n",
    "sns.boxplot(data = df_burst, x='condition', y='interval_sum', hue='replicate')\n",
    "\n",
    "fig, ax = plt.subplots(1, 1, figsize = (30, 7))\n",
    "sns.boxplot(data = df_stats, x='condition', y='expected_interval_sum')"
   ]
  },
  {
   "cell_type": "code",
   "execution_count": null,
   "metadata": {},
   "outputs": [],
   "source": [
    "fig, ax = plt.subplots(1, 1, figsize = (30, 7))\n",
    "sns.boxplot(data = df_burst, x='condition', y='interval_diff', hue='replicate')\n",
    "\n",
    "fig, ax = plt.subplots(1, 1, figsize = (30, 7))\n",
    "sns.boxplot(data = df_stats, x='condition', y='expected_interval_diff')"
   ]
  }
 ],
 "metadata": {
  "kernelspec": {
   "display_name": "nanoneuro",
   "language": "python",
   "name": "python3"
  },
  "language_info": {
   "codemirror_mode": {
    "name": "ipython",
    "version": 3
   },
   "file_extension": ".py",
   "mimetype": "text/x-python",
   "name": "python",
   "nbconvert_exporter": "python",
   "pygments_lexer": "ipython3",
   "version": "3.10.14"
  }
 },
 "nbformat": 4,
 "nbformat_minor": 2
}
