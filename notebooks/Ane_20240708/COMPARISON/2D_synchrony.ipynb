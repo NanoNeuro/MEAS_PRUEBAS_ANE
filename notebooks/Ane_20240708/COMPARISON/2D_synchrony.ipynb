{
 "cells": [
  {
   "cell_type": "code",
   "execution_count": null,
   "metadata": {},
   "outputs": [],
   "source": [
    "import pandas as pd\n",
    "import matplotlib.pyplot as plt\n",
    "import matplotlib as mpl\n",
    "import numpy as np\n",
    "import time\n",
    "import datetime as dt\n",
    "import os\n",
    "import seaborn as sns\n",
    "import scipy.stats as sts\n",
    "\n",
    "import random\n",
    "import string\n",
    "\n",
    "import pyspike as spk\n",
    "import itertools as itl\n",
    "\n",
    "import plotly.express as px"
   ]
  },
  {
   "cell_type": "code",
   "execution_count": null,
   "metadata": {},
   "outputs": [],
   "source": [
    "from nb_vars import FOLDER_INTERMEDIATE, FOLDER_OUTPUT, CUTOFF_SPIKES_HZ"
   ]
  },
  {
   "cell_type": "markdown",
   "metadata": {},
   "source": [
    "## Load df of filtered peaks"
   ]
  },
  {
   "cell_type": "code",
   "execution_count": null,
   "metadata": {},
   "outputs": [],
   "source": [
    "CONDITION_NAME = \"pulse_duration\"\n",
    "CONDITION = \"200\""
   ]
  },
  {
   "cell_type": "code",
   "execution_count": null,
   "metadata": {},
   "outputs": [],
   "source": [
    "df_peaks = pd.read_csv(f'{FOLDER_INTERMEDIATE}/df_peaks_full_{CONDITION_NAME}_{CONDITION}_freq_{CUTOFF_SPIKES_HZ}.csv')"
   ]
  },
  {
   "cell_type": "code",
   "execution_count": null,
   "metadata": {},
   "outputs": [],
   "source": [
    "df_peaks"
   ]
  },
  {
   "cell_type": "markdown",
   "metadata": {},
   "source": [
    "# Making synchrony DFs\n",
    "\n",
    "We are going to make two different types of synchrony index dataframes: one representing pair-to-pair indices, and one with the indices per well. The first one will be useful to find similarities between electrodes and to be able to make a similarity graph; and the second one is more representative of the general elements of the well as a whole. As for the similarity metrics, we are going to use different metrics, including the ISI distance, SPIKE distance, Rate Independent SPIKE distance and SPIKE synchrony. All measurements will be adjusted using MRTS (optional, but included)."
   ]
  },
  {
   "cell_type": "code",
   "execution_count": null,
   "metadata": {},
   "outputs": [],
   "source": [
    "list_wells = df_peaks.drop_duplicates('well')['well'].values\n",
    "\n",
    "MRTS = 'auto'"
   ]
  },
  {
   "cell_type": "code",
   "execution_count": null,
   "metadata": {},
   "outputs": [],
   "source": [
    "df_peaks_dedup = df_peaks.drop_duplicates(subset=['condition', 'treatment', 'well']).sort_values(by=['well', 'condition', 'treatment']).reset_index(drop=True)[['condition', 'treatment', 'well']]\n",
    "df_peaks_dedup"
   ]
  },
  {
   "cell_type": "code",
   "execution_count": null,
   "metadata": {},
   "outputs": [],
   "source": [
    "# Make DF with recompiled info per well\n",
    "df_synchrony_well = pd.DataFrame(columns=['condition', 'treatment', 'well', 'ISI distance', 'SPIKE profile', 'RI SPIKE profile', 'SPIKE sync', 'SPIKE sync nonzero'],)\n",
    "\n",
    "for col in ['condition', 'treatment', 'well']:\n",
    "    df_synchrony_well.loc[:, col] = df_peaks_dedup.loc[:, col].values\n",
    "\n",
    "\n",
    "for idx in range(len(df_peaks_dedup)):\n",
    "    condition, treatment, well = df_peaks_dedup.iloc[idx].values.tolist()\n",
    "\n",
    "    electrodes = df_peaks[df_peaks['well'] == well].drop_duplicates('electrode')['electrode'].values\n",
    "\n",
    "    spike_trains = [spk.SpikeTrain(df_peaks[(df_peaks['electrode'] == electrode) & (df_peaks['well'] == well) & (df_peaks['treatment'] == treatment) & (df_peaks['condition'] == condition)]['time'].values, \n",
    "                                   edges=np.max(df_peaks['time'].values)) for electrode in electrodes]\n",
    "\n",
    "    df_synchrony_well.loc[idx, 'ISI distance'] = spk.isi_distance(spike_trains, MRTS=MRTS)\n",
    "    df_synchrony_well.loc[idx, 'SPIKE profile'] = spk.spike_distance(spike_trains, MRTS=MRTS)\n",
    "    df_synchrony_well.loc[idx, 'RI SPIKE profile'] = spk.spike_distance(spike_trains, MRTS=MRTS, RI=True)\n",
    "    df_synchrony_well.loc[idx, 'SPIKE sync'] = spk.spike_sync(spike_trains, MRTS=MRTS)\n",
    "\n",
    "    x, y = spk.spike_sync_profile(spike_trains, MRTS=MRTS, RI=True).get_plottable_data()\n",
    "    df_synchrony_well.loc[idx, 'SPIKE sync nonzero'] = (y[y > 0].mean())"
   ]
  },
  {
   "cell_type": "code",
   "execution_count": null,
   "metadata": {},
   "outputs": [],
   "source": [
    "# Make DF with recompiled info per electrode pair\n",
    "df_synchrony_pairs = pd.DataFrame(columns=['condition', 'treatment', 'well', 'electrode_A', 'electrode_B', 'ISI distance', 'SPIKE profile', 'RI SPIKE profile', 'SPIKE sync', 'SPIKE sync nonzero'])\n",
    "\n",
    "idx = 0\n",
    "for ctw in range(len(df_peaks_dedup)):\n",
    "    condition, treatment, well = df_peaks_dedup.iloc[ctw].values.tolist()\n",
    "\n",
    "    electrodes = df_peaks[(df_peaks['well'] == well) & (df_peaks['treatment'] == treatment) & (df_peaks['condition'] == condition)].drop_duplicates('electrode')['electrode'].values\n",
    "    for el_A, el_B in itl.combinations(electrodes, 2):\n",
    "        df_synchrony_pairs.loc[idx, ['condition', 'treatment', 'well', 'electrode_A', 'electrode_B']] = [condition, treatment, well, el_A, el_B]\n",
    "        \n",
    "        spike_trains = [spk.SpikeTrain(df_peaks[(df_peaks['electrode'] == electrode) & (df_peaks['well'] == well) & (df_peaks['treatment'] == treatment) & (df_peaks['condition'] == condition)]['time'].values, \n",
    "                                       edges=np.max(df_peaks['time'].values)) for electrode in [el_A, el_B]]\n",
    "\n",
    "        df_synchrony_pairs.loc[idx, 'ISI distance'] = spk.isi_distance(spike_trains, MRTS=MRTS)\n",
    "        df_synchrony_pairs.loc[idx, 'SPIKE profile'] = spk.spike_distance(spike_trains, MRTS=MRTS)\n",
    "        df_synchrony_pairs.loc[idx, 'RI SPIKE profile'] = spk.spike_distance(spike_trains, MRTS=MRTS, RI=True)\n",
    "        df_synchrony_pairs.loc[idx, 'SPIKE sync'] = spk.spike_sync(spike_trains, MRTS=MRTS)\n",
    "\n",
    "        x, y = spk.spike_sync_profile(spike_trains, MRTS=MRTS, RI=True).get_plottable_data()\n",
    "        df_synchrony_pairs.loc[idx, 'SPIKE sync nonzero'] = (y[y > 0].mean())\n",
    "\n",
    "        idx += 1 "
   ]
  },
  {
   "cell_type": "markdown",
   "metadata": {},
   "source": [
    "# Plots"
   ]
  },
  {
   "cell_type": "markdown",
   "metadata": {},
   "source": [
    "## Plot well information"
   ]
  },
  {
   "cell_type": "code",
   "execution_count": null,
   "metadata": {},
   "outputs": [],
   "source": [
    "profile_to_plot = 'SPIKE sync'\n",
    "\n",
    "fig, axs = plt.subplots(2, 2, figsize=(14, 8))\n",
    "for idx, profile_to_plot in enumerate(['ISI distance', 'RI SPIKE profile', 'SPIKE sync', 'SPIKE sync nonzero']):\n",
    "    sns.barplot(data=df_synchrony_well, x='well', y=profile_to_plot, hue='treatment', ax=axs.ravel()[idx])"
   ]
  },
  {
   "cell_type": "code",
   "execution_count": null,
   "metadata": {},
   "outputs": [],
   "source": [
    "df_synchrony_well_diff = df_synchrony_well.drop_duplicates(subset=['well']) \n",
    "df_synchrony_well_diff.loc[:, ['ISI distance', 'SPIKE profile', 'RI SPIKE profile', 'SPIKE sync', 'SPIKE sync nonzero']] = df_synchrony_well.groupby('well')[['ISI distance', 'SPIKE profile', 'RI SPIKE profile', 'SPIKE sync', 'SPIKE sync nonzero']].diff().dropna().values"
   ]
  },
  {
   "cell_type": "code",
   "execution_count": null,
   "metadata": {},
   "outputs": [],
   "source": [
    "df_synchrony_well_diff_melt = df_synchrony_well_diff.melt(id_vars=['condition', 'treatment', 'well'])\n",
    "sns.swarmplot(df_synchrony_well_diff_melt, x='variable', y='value')\n",
    "plt.plot([-0.5, 3.5], [0, 0], c='red')"
   ]
  },
  {
   "cell_type": "code",
   "execution_count": null,
   "metadata": {},
   "outputs": [],
   "source": [
    "df_synchrony_well_diff_melt"
   ]
  },
  {
   "cell_type": "code",
   "execution_count": null,
   "metadata": {},
   "outputs": [],
   "source": [
    "sns.pairplot(df_synchrony_well, corner=True, hue='treatment')"
   ]
  },
  {
   "cell_type": "markdown",
   "metadata": {},
   "source": [
    "## Plot pairwise correlations"
   ]
  },
  {
   "cell_type": "code",
   "execution_count": null,
   "metadata": {},
   "outputs": [],
   "source": [
    "profile_to_plot = 'ISI distance'\n",
    "\n",
    "list_treatments = ['PRE', 'POST']\n",
    "\n",
    "fig, axs = plt.subplots(4, 7 * 2, figsize = (7 * 2 * 3, 4 * 3))\n",
    "\n",
    "for idx, (well, treatment) in enumerate(itl.product(list_wells, list_treatments)):\n",
    "    df_synchrony_pairs_well = df_synchrony_pairs[(df_synchrony_pairs['well'] == well) & (df_synchrony_pairs['treatment'] == treatment)]\n",
    "\n",
    "    if len(df_synchrony_pairs_well) > 0:\n",
    "        df_sub = df_synchrony_pairs_well[['electrode_A', 'electrode_B', profile_to_plot]].rename(columns={profile_to_plot: 'value'})\n",
    "\n",
    "        df_pivot = df_sub.pivot(index='electrode_A', columns='electrode_B', values='value').astype(float)\n",
    "\n",
    "        sns.heatmap(df_pivot, ax=axs.ravel()[idx], vmin=df_synchrony_pairs[profile_to_plot].min(), vmax=df_synchrony_pairs[profile_to_plot].max())\n",
    "        axs.ravel()[idx].set_title(f'{well} {treatment}')\n",
    "    else:\n",
    "        axs.ravel()[idx].set_axis_off()\n",
    "\n",
    "    \n",
    "\n",
    "plt.tight_layout()"
   ]
  },
  {
   "cell_type": "code",
   "execution_count": null,
   "metadata": {},
   "outputs": [],
   "source": [
    "sns.boxplot(df_synchrony_pairs, x='condition', y='ISI distance', hue='treatment')\n",
    "plt.show()\n",
    "sns.boxplot(df_synchrony_pairs, x='condition', y='SPIKE sync', hue='treatment')"
   ]
  },
  {
   "cell_type": "code",
   "execution_count": null,
   "metadata": {},
   "outputs": [],
   "source": [
    "df_synchrony_pairs_diff = df_synchrony_pairs.drop_duplicates(subset=['condition', 'well', 'electrode_A', 'electrode_B']) \n",
    "df_synchrony_pairs_diff.loc[:, ['ISI distance', 'SPIKE profile', 'RI SPIKE profile', 'SPIKE sync', 'SPIKE sync nonzero']] = df_synchrony_pairs.groupby(['condition', 'well', 'electrode_A', 'electrode_B'])[['ISI distance', 'SPIKE profile', 'RI SPIKE profile', 'SPIKE sync', 'SPIKE sync nonzero']].diff().dropna().values"
   ]
  },
  {
   "cell_type": "code",
   "execution_count": null,
   "metadata": {},
   "outputs": [],
   "source": [
    "profile_to_plot = 'SPIKE sync nonzero'\n",
    "\n",
    "fig, axs = plt.subplots(4, 6, figsize = (6 * 3, 4 * 3))\n",
    "\n",
    "for idx, well in enumerate(list_wells):\n",
    "    df_synchrony_pairs_diff_well = df_synchrony_pairs_diff[(df_synchrony_pairs_diff['well'] == well)]\n",
    "\n",
    "    if len(df_synchrony_pairs_diff_well) > 0:\n",
    "        condition = df_peaks_dedup.set_index('well').loc[well, 'condition'].iloc[0]\n",
    "\n",
    "        df_sub = df_synchrony_pairs_diff_well[['electrode_A', 'electrode_B', profile_to_plot]].rename(columns={profile_to_plot: 'value'})\n",
    "        df_pivot = df_sub.pivot(index='electrode_A', columns='electrode_B', values='value').astype(float)\n",
    "\n",
    "\n",
    "        sns.heatmap(df_pivot, ax=axs.ravel()[idx], vmin=-0.1, vmax=0.1, cmap='coolwarm')\n",
    "        axs.ravel()[idx].set_title(f'{well} ({condition}) PRE - POST')\n",
    "    else:\n",
    "        axs.ravel()[idx].set_axis_off()\n",
    "\n",
    "    \n",
    "\n",
    "plt.tight_layout()"
   ]
  },
  {
   "cell_type": "code",
   "execution_count": null,
   "metadata": {},
   "outputs": [],
   "source": [
    "sns.boxplot(df_synchrony_pairs_diff, x='condition', y='ISI distance')\n",
    "plt.plot([-0.5, 7.5], [0, 0], c='red')\n",
    "plt.show()\n",
    "sns.boxplot(df_synchrony_pairs_diff, x='condition', y='SPIKE sync')\n",
    "plt.plot([-0.5, 7.5], [0, 0], c='red')\n"
   ]
  },
  {
   "cell_type": "code",
   "execution_count": null,
   "metadata": {},
   "outputs": [],
   "source": [
    "well = 'D3'"
   ]
  },
  {
   "cell_type": "code",
   "execution_count": null,
   "metadata": {},
   "outputs": [],
   "source": [
    "# Plot each well\n",
    "df_peaks_sub = df_peaks[(df_peaks['treatment'] == 'PRE') & (df_peaks['well'] == well)]\n",
    "\n",
    "y, x = [(int(i[0]) - 1) * 4 + (int(i[1]) - 1) for i in df_peaks_sub['electrode'].astype(str).values], df_peaks_sub['time'].values \n",
    "\n",
    "fig = px.scatter(x=x, y=y, opacity=0.35)\n",
    "fig.update_yaxes(tickvals=np.arange(16), ticktext=[f'{i//4 + 1}{i%4 + 1}' for i in np.arange(16)])"
   ]
  },
  {
   "cell_type": "code",
   "execution_count": null,
   "metadata": {},
   "outputs": [],
   "source": [
    "# Plot each well\n",
    "df_peaks_sub = df_peaks[(df_peaks['treatment'] == 'POST') & (df_peaks['well'] == well)]\n",
    "\n",
    "y, x = [(int(i[0]) - 1) * 4 + (int(i[1]) - 1) for i in df_peaks_sub['electrode'].astype(str).values], df_peaks_sub['time'].values \n",
    "\n",
    "fig = px.scatter(x=x, y=y, opacity=0.35)\n",
    "fig.update_yaxes(tickvals=np.arange(16), ticktext=[f'{i//4 + 1}{i%4 + 1}' for i in np.arange(16)])"
   ]
  }
 ],
 "metadata": {
  "kernelspec": {
   "display_name": "nanoneuro",
   "language": "python",
   "name": "python3"
  },
  "language_info": {
   "codemirror_mode": {
    "name": "ipython",
    "version": 3
   },
   "file_extension": ".py",
   "mimetype": "text/x-python",
   "name": "python",
   "nbconvert_exporter": "python",
   "pygments_lexer": "ipython3",
   "version": "3.10.14"
  }
 },
 "nbformat": 4,
 "nbformat_minor": 2
}
