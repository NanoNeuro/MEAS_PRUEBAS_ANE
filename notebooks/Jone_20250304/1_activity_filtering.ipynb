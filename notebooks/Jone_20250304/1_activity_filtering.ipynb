{
 "cells": [
  {
   "cell_type": "code",
   "execution_count": null,
   "metadata": {},
   "outputs": [],
   "source": [
    "import pandas as pd\n",
    "import matplotlib.pyplot as plt\n",
    "\n",
    "import numpy as np\n",
    "import datetime as dt\n",
    "import os\n",
    "import seaborn as sns\n",
    "\n",
    "import plotly.express as px\n",
    "\n",
    "import random\n",
    "import string\n",
    "\n",
    "import polars as pl\n",
    "import polars.selectors as cs"
   ]
  },
  {
   "cell_type": "markdown",
   "metadata": {},
   "source": [
    "# Read files"
   ]
  },
  {
   "cell_type": "code",
   "execution_count": null,
   "metadata": {},
   "outputs": [],
   "source": [
    "from nb_vars import FOLDER_INTERMEDIATE, CUTOFF_SPIKES_HZ"
   ]
  },
  {
   "cell_type": "code",
   "execution_count": null,
   "metadata": {},
   "outputs": [],
   "source": [
    "df_peaks = pl.read_csv(f'{FOLDER_INTERMEDIATE}/df_peaks_full.csv')\n",
    "df_peaks = df_peaks.to_pandas()"
   ]
  },
  {
   "cell_type": "code",
   "execution_count": null,
   "metadata": {},
   "outputs": [],
   "source": [
    "# %%script true\n",
    "# Plot each well\n",
    "df_peaks_sub = df_peaks[(df_peaks['time_exp'] == '10 min') & \n",
    "                        (df_peaks['well'] == 'D4')]\n",
    "\n",
    "fig = plt.figure(figsize=(30, 6))\n",
    "\n",
    "y = [(int(i[0]) - 1) * 4 + (int(i[1]) - 1) for i in df_peaks_sub['electrode'].astype(str).values]\n",
    "x =  df_peaks_sub['time'].values \n",
    "\n",
    "fig = px.scatter(x=x, y=y, opacity=0.35)\n",
    "fig.update_yaxes(tickvals=np.arange(16), ticktext=[f'{i//4 + 1}{i%4 + 1}' for i in np.arange(16)])"
   ]
  },
  {
   "cell_type": "markdown",
   "metadata": {},
   "source": [
    "## Plot the activity per minute per electrode"
   ]
  },
  {
   "cell_type": "code",
   "execution_count": null,
   "metadata": {},
   "outputs": [],
   "source": [
    "# !!! WARNING: ONCE YOU SET UP THIS VARIABLE, CHANGE IT IN THE nb_vars.py FILE!!!!\n",
    "\n",
    "CUTOFF_SPIKES_HZ = 1"
   ]
  },
  {
   "cell_type": "code",
   "execution_count": null,
   "metadata": {},
   "outputs": [],
   "source": [
    "df_list_wells, df_list_activity = [], []\n",
    "\n",
    "for well in df_peaks['well'].drop_duplicates().sort_values().values:\n",
    "    list_electrodes_refuse = []\n",
    "\n",
    "    df_well = df_peaks[df_peaks['well'] == well]\n",
    "\n",
    "    for time_exp in sorted(set(df_well['time_exp'].values)):\n",
    "        df_well_treatment = df_well[df_well['time_exp'] == time_exp]\n",
    "        list_counts = df_well_treatment.groupby('electrode').count()['time'].sort_values() / (df_well['time'].max() - df_well['time'].min()) # * 60 para hacerlo relativo a minuto\n",
    "\n",
    "        df_list_wells += ['\\n'.join([well, time_exp])] * len(list_counts)\n",
    "        df_list_activity += list_counts.values.tolist()\n",
    "\n",
    "df_activity = {'well': df_list_wells, 'activity': df_list_activity}\n",
    "\n",
    "fig = plt.figure(figsize=(100, 6))\n",
    "sns.stripplot(data=df_activity, x='well', y='activity')\n",
    "plt.xticks(rotation=90)\n",
    "plt.plot(plt.gca().get_xlim(), [CUTOFF_SPIKES_HZ, CUTOFF_SPIKES_HZ], c='#bc0000')"
   ]
  },
  {
   "cell_type": "markdown",
   "metadata": {},
   "source": [
    "**There are two wells that have 0 activity: A2 (HEK PLKO) and D4 (ASTROS 219); and C6 (ASTROS PLKO) was removed after the 1Hz cutoff.**"
   ]
  },
  {
   "cell_type": "code",
   "execution_count": null,
   "metadata": {},
   "outputs": [],
   "source": [
    "# MAKE A LIST OF ELECTRODES TO REFUSE\n",
    "# Since each condition has a different set of wells, we only need to encode the well info\n",
    "\n",
    "# We are going to refuse electrodes with less than XX spikes PER MINUTE.\n",
    "\n",
    "dict_electrode_refuse = {}\n",
    "\n",
    "\n",
    "for well in sorted(set(df_peaks['well'].values)):\n",
    "    list_electrodes_refuse = []\n",
    "\n",
    "    df_well = df_peaks[df_peaks['well'] == well]\n",
    "\n",
    "    for time_exp in sorted(set(df_well['time_exp'].values)):\n",
    "        df_well_time_exp = df_well[df_well['time_exp'] == time_exp]\n",
    "\n",
    "        list_counts = df_well_time_exp.groupby('electrode').count()['time'].sort_values() / (df_well['time'].max() - df_well['time'].min()) # * 60 para hacerlo relativo a minuto\n",
    "        list_electrodes = list_counts[list_counts < CUTOFF_SPIKES_HZ].index.tolist()\n",
    "\n",
    "        list_electrodes_refuse += list_electrodes\n",
    "\n",
    "    set_electrodes_refuse = sorted(list(set(list_electrodes_refuse)))\n",
    "    dict_electrode_refuse[well] = set_electrodes_refuse\n",
    "        \n",
    "\n",
    "print(dict_electrode_refuse)\n",
    "\n",
    "\n",
    "list_remove_idx = []\n",
    "\n",
    "for well, list_electrodes in dict_electrode_refuse.items():\n",
    "    for electrode in list_electrodes:\n",
    "        df_sub = df_peaks[(df_peaks['well'] == well) & (df_peaks['electrode'] == int(electrode))]\n",
    "        list_remove_idx += df_sub.index.tolist()\n",
    "\n",
    "list_remove_idx_bool = np.ones(len(df_peaks)).astype(bool)\n",
    "list_remove_idx_bool[list_remove_idx] = False\n",
    "\n",
    "df_peaks_sub_filter = df_peaks.loc[list_remove_idx_bool]"
   ]
  },
  {
   "cell_type": "code",
   "execution_count": null,
   "metadata": {},
   "outputs": [],
   "source": [
    "df_peaks"
   ]
  },
  {
   "cell_type": "code",
   "execution_count": null,
   "metadata": {},
   "outputs": [],
   "source": [
    "df_peaks_sub_filter"
   ]
  },
  {
   "cell_type": "code",
   "execution_count": null,
   "metadata": {},
   "outputs": [],
   "source": [
    "# FASTER TO SAVE WITH POLARS\n",
    "pl.DataFrame(df_peaks_sub_filter).write_csv(f'{FOLDER_INTERMEDIATE}/df_peaks_full_freq_{CUTOFF_SPIKES_HZ}.csv')"
   ]
  },
  {
   "cell_type": "code",
   "execution_count": null,
   "metadata": {},
   "outputs": [],
   "source": [
    "with open(f'{FOLDER_INTERMEDIATE}/freq_{CUTOFF_SPIKES_HZ}_discarded_electrodes.txt', 'w') as file:\n",
    "    for well, elecs in dict_electrode_refuse.items():\n",
    "        file.write(f\"{well}: {', '.join([str(i) for i in elecs])}\\n\")"
   ]
  }
 ],
 "metadata": {
  "kernelspec": {
   "display_name": "MEAs",
   "language": "python",
   "name": "python3"
  },
  "language_info": {
   "codemirror_mode": {
    "name": "ipython",
    "version": 3
   },
   "file_extension": ".py",
   "mimetype": "text/x-python",
   "name": "python",
   "nbconvert_exporter": "python",
   "pygments_lexer": "ipython3",
   "version": "3.13.2"
  }
 },
 "nbformat": 4,
 "nbformat_minor": 2
}
