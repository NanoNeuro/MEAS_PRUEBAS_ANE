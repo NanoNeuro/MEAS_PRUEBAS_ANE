{
 "cells": [
  {
   "cell_type": "code",
   "execution_count": null,
   "metadata": {},
   "outputs": [],
   "source": [
    "import pandas as pd\n",
    "import polars as pl\n",
    "import numpy as np\n",
    "\n",
    "import datetime as dt\n",
    "import os\n",
    "\n",
    "import itertools as itl\n",
    "\n",
    "import sys"
   ]
  },
  {
   "cell_type": "code",
   "execution_count": null,
   "metadata": {},
   "outputs": [],
   "source": [
    "module_path = os.path.abspath(os.path.join('..'))\n",
    "if module_path not in sys.path:\n",
    "    sys.path.append(module_path)\n",
    "\n",
    "from py_functions.MEAS_recordings import retrieve_peaks"
   ]
  },
  {
   "cell_type": "markdown",
   "metadata": {},
   "source": [
    "## Running cells"
   ]
  },
  {
   "cell_type": "code",
   "execution_count": null,
   "metadata": {},
   "outputs": [],
   "source": [
    "from nb_vars import FOLDER_INPUT_BASE, FOLDER_INTERMEDIATE"
   ]
  },
  {
   "cell_type": "markdown",
   "metadata": {},
   "source": [
    "**EXP1**"
   ]
  },
  {
   "cell_type": "code",
   "execution_count": null,
   "metadata": {},
   "outputs": [],
   "source": [
    "folder_input = f'{FOLDER_INPUT_BASE}'\n",
    "folder_output = f'{FOLDER_INTERMEDIATE}'\n",
    "\n",
    "os.makedirs(folder_output, exist_ok=True)\n",
    "\n",
    "dict_condition_wellname = {'HEK PLKO': ['A2', 'B6', 'C1', 'D1'], \n",
    "                           'HEK 219': ['A5', 'B2', 'C3', 'D6'],\n",
    "                           'ASTRO PLKO': ['A1', 'A3', 'C6', 'D2'],\n",
    "                           'ASTRO 219': ['A4', 'A6', 'B1', 'D4'],\n",
    "                           'BLANCO': ['C4', 'D5'], }\n",
    "\n",
    "dict_condition_wellnumber = {'HEK PLKO': ['12', '26', '31', '41'], \n",
    "                           'HEK 219': ['15', '22', '33', '46'],\n",
    "                           'ASTRO PLKO': ['11', '13', '36', '42'],\n",
    "                           'ASTRO 219': ['14', '16', '21', '24'],\n",
    "                           'BLANCO': ['34', '45'], }\n",
    "\n",
    "dict_condition_replicates = {'HEK PLKO': [1, 2, 3, 4], \n",
    "                           'HEK 219': [1, 2, 3, 4],\n",
    "                           'ASTRO PLKO': [1, 2, 3, 4],\n",
    "                           'ASTRO 219': [1, 2, 3, 4],\n",
    "                           'BLANCO': [1, 2], }\n",
    "\n",
    "dict_times_dirs = {\"Base\": \"iPSCs_DIV20_250uA_PRE.TRATAMIENTO(000)\"} | {f\"{i * 10} min\": f\"iPSCs_DIV20_250uA_TRATAMIENTO(0{i:0>2})\" for i in range(18)}\n",
    "\n",
    "conditions = ['HEK PLKO', 'HEK 219', 'ASTRO PLKO', 'ASTRO 219', 'BLANCO']\n",
    "times = [\"Base\"] + [f\"{i * 10} min\" for i in range(18)]\n",
    "\n",
    "list_conditions = [#('Condition', 'Time exp', 'Wells', 'Well_num', 'Replicate', 'Folder') \n",
    "                    (cond, time, dict_condition_wellname[cond], dict_condition_wellnumber[cond], dict_condition_replicates[cond], dict_times_dirs[time])\n",
    "                    for cond, time in itl.product(conditions, times)\n",
    "                   ]"
   ]
  },
  {
   "cell_type": "code",
   "execution_count": null,
   "metadata": {},
   "outputs": [],
   "source": [
    "print(f'OUTPUT: {folder_output}/df_peaks_full.csv')\n",
    "\n",
    "list_df_peaks = []\n",
    "\n",
    "for condition, time_exp, list_wells, list_wells_num, replicates, sample_base in list_conditions:\n",
    "    for well, well_num, replicate in zip(list_wells, list_wells_num, replicates):\n",
    "        print(condition, time_exp, well, well_num, replicate, sample_base)\n",
    "        list_peak_times, list_electrodes = retrieve_peaks(root=folder_input, sample_base=sample_base, well=(int(well_num[0]), int(well_num[1])))\n",
    "        \n",
    "        df_peaks_i = pl.DataFrame({'condition': [condition] * len(list_peak_times), \n",
    "                                    'time_exp': [time_exp] * len(list_peak_times), \n",
    "                                    'well': [well] * len(list_peak_times), \n",
    "                                    'well_num': [well_num] * len(list_peak_times), \n",
    "                                    'replicate': [replicate] * len(list_peak_times), \n",
    "                                    'electrode': list_electrodes, \n",
    "                                    'time': list_peak_times\n",
    "                                    })\n",
    "        \n",
    "        list_df_peaks.append(df_peaks_i)\n",
    "\n",
    "df_peaks_exp_1 = pl.concat(list_df_peaks)\n",
    "df_peaks_exp_1.write_csv(f'{folder_output}/df_peaks_full.csv')\n"
   ]
  },
  {
   "cell_type": "code",
   "execution_count": null,
   "metadata": {},
   "outputs": [],
   "source": [
    "!rm -rf $PWD/tmp"
   ]
  }
 ],
 "metadata": {
  "kernelspec": {
   "display_name": "MEAs",
   "language": "python",
   "name": "python3"
  },
  "language_info": {
   "codemirror_mode": {
    "name": "ipython",
    "version": 3
   },
   "file_extension": ".py",
   "mimetype": "text/x-python",
   "name": "python",
   "nbconvert_exporter": "python",
   "pygments_lexer": "ipython3",
   "version": "3.13.2"
  }
 },
 "nbformat": 4,
 "nbformat_minor": 2
}
