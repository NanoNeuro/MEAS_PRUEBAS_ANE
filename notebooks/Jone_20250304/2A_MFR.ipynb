{
 "cells": [
  {
   "cell_type": "code",
   "execution_count": null,
   "metadata": {
    "tags": []
   },
   "outputs": [],
   "source": [
    "import pandas as pd\n",
    "import matplotlib.pyplot as plt\n",
    "import matplotlib as mpl\n",
    "import numpy as np\n",
    "import time\n",
    "import datetime as dt\n",
    "import os\n",
    "import seaborn as sns\n",
    "import scipy.stats as sts\n",
    "\n",
    "import random\n",
    "import string\n",
    "\n",
    "import pingouin as pg\n",
    "\n",
    "import polars as pl"
   ]
  },
  {
   "cell_type": "code",
   "execution_count": null,
   "metadata": {},
   "outputs": [],
   "source": [
    "from nb_vars import FOLDER_INTERMEDIATE, FOLDER_OUTPUT, CUTOFF_SPIKES_HZ"
   ]
  },
  {
   "cell_type": "markdown",
   "metadata": {},
   "source": [
    "## Load df of filtered peaks"
   ]
  },
  {
   "cell_type": "code",
   "execution_count": null,
   "metadata": {},
   "outputs": [],
   "source": [
    "folder_input =  f'{FOLDER_INTERMEDIATE}'\n",
    "\n",
    "df_peaks_cutoff = pl.read_csv(f'{folder_input}/df_peaks_full_freq_{CUTOFF_SPIKES_HZ}.csv').to_pandas()\n"
   ]
  },
  {
   "cell_type": "code",
   "execution_count": null,
   "metadata": {},
   "outputs": [],
   "source": [
    "def adapt_MFR_df(df):\n",
    "    df['day'] = [1 if '24h' in i else 0 for i in df['time_exp']]\n",
    "    df.loc[df['time_exp'] == 'Base', 'day'] = -1 \n",
    "    df['min'] = [int(i.replace('24h + ', '').replace(' min', '')) if i != 'Base' else 0 for i in df['time_exp']]\n",
    "\n",
    "    df = df.sort_values(by=['day', 'min'])\n",
    "\n",
    "    df['condition_time'] = df['condition'] + ' | ' + df['time_exp']\n",
    "    df['condition_time'] = df['condition_time'].apply(lambda x: x.replace(' min', '').replace('h + ', '_'))\n",
    "\n",
    "    df['time_exp'] = df['time_exp'].apply(lambda x: x.replace(' min', '´'))\n",
    "\n",
    "    return df"
   ]
  },
  {
   "cell_type": "markdown",
   "metadata": {},
   "source": [
    "## Relative change in MFR (without Baseline normalisation)"
   ]
  },
  {
   "cell_type": "code",
   "execution_count": null,
   "metadata": {},
   "outputs": [],
   "source": [
    "df_MFR = df_peaks_cutoff.groupby(['condition', 'time_exp', 'well', 'replicate', 'electrode']).count()['time'] / (df_peaks_cutoff['time'].max() - df_peaks_cutoff['time'].min())\n",
    "df_MFR = df_MFR.reset_index().sort_values(by=['condition', 'time_exp','well', 'electrode'])\n",
    "df_MFR = df_MFR.rename(columns={'time': 'MFR'})\n",
    "\n",
    "df_MFR = adapt_MFR_df(df_MFR)\n",
    "df_MFR\n",
    "\n",
    "fig, ax = plt.subplots(1,1, figsize=(28,6))\n",
    "sns.boxplot(data=df_MFR, x='time_exp', y='MFR', hue = 'condition', ax=ax)\n"
   ]
  },
  {
   "cell_type": "code",
   "execution_count": null,
   "metadata": {},
   "outputs": [],
   "source": [
    "df_MFR"
   ]
  },
  {
   "cell_type": "code",
   "execution_count": null,
   "metadata": {},
   "outputs": [],
   "source": [
    "for tto in ['BLANCO', 'ASTRO PLKO', 'ASTRO 219', 'HEK PLKO', 'HEK 219']:\n",
    "    fig, ax = plt.subplots(1,1, figsize=(28,6))\n",
    "    sns.boxplot(data=df_MFR[df_MFR['condition'] == tto], x='time_exp', y='MFR', ax=ax)\n",
    "    ax.set_title(tto + ' MERGED REPLICATES')\n",
    "    plt.show()\n",
    "\n",
    "    fig, ax = plt.subplots(1,1, figsize=(28,6))\n",
    "    sns.boxplot(data=df_MFR[df_MFR['condition'] == tto], x='time_exp', y='MFR', ax=ax, hue='replicate')\n",
    "    ax.set_title(tto + ' INDIVIDUAL REPLICATES')\n",
    "    plt.show()"
   ]
  },
  {
   "cell_type": "markdown",
   "metadata": {},
   "source": [
    "## Relative change in MFR (with Baseline normalisation)"
   ]
  },
  {
   "cell_type": "code",
   "execution_count": null,
   "metadata": {},
   "outputs": [],
   "source": [
    "def normalize_MFR(df, condition):\n",
    "    df_sub = df[df['condition'] == condition]\n",
    "    base_df = df_sub[df_sub['time_exp'] == 'Base']\n",
    "    rest_df = df_sub[df_sub['time_exp'] != 'Base']\n",
    "\n",
    "    norm_df = rest_df.copy()\n",
    "    norm_df = norm_df.rename(columns={'MFR': 'MFR_norm'})\n",
    "\n",
    "    list_wells_electrodes = base_df[['well', 'electrode']].values\n",
    "\n",
    "    for well, electrode in zip(list_wells_electrodes.T[0],list_wells_electrodes.T[1]):\n",
    "        MFR_top = rest_df.loc[(rest_df['well'] == well) & (rest_df['electrode'] == electrode), 'MFR'].values\n",
    "        MFR_base = base_df.loc[(base_df['well'] == well) & (base_df['electrode'] == electrode), 'MFR'].values\n",
    "\n",
    "        MFR_norm = (MFR_top / MFR_base)**0.5  # This helps reduce some noise in the data\n",
    "\n",
    "        norm_df.loc[(norm_df['well'] == well) & (norm_df['electrode'] == electrode), 'MFR_norm'] = MFR_norm\n",
    "\n",
    "    return norm_df"
   ]
  },
  {
   "cell_type": "code",
   "execution_count": null,
   "metadata": {},
   "outputs": [],
   "source": [
    "df_MFR_norm = normalize_MFR(df_MFR, condition='BLANCO')\n",
    "\n",
    "fig, ax = plt.subplots(1,1, figsize=(28,6))\n",
    "sns.boxplot(data=df_MFR_norm, x='time_exp', y='MFR_norm', hue = 'replicate', ax=ax)\n",
    "ax.set_ylim([0, 2.5])"
   ]
  },
  {
   "cell_type": "code",
   "execution_count": null,
   "metadata": {},
   "outputs": [],
   "source": [
    "df_MFR_norm_list = [normalize_MFR(df_MFR, condition=condition) for condition in df_MFR['condition'].drop_duplicates().values]\n",
    "df_MFR_norm = pd.concat(df_MFR_norm_list)\n",
    "\n",
    "\n",
    "fig, ax = plt.subplots(1,1, figsize=(28,6))\n",
    "sns.boxplot(data=df_MFR_norm, x='time_exp', y='MFR_norm', hue = 'condition', ax=ax)\n",
    "ax.set_ylim([0, 3])\n",
    "plt.show()\n"
   ]
  },
  {
   "cell_type": "code",
   "execution_count": null,
   "metadata": {},
   "outputs": [],
   "source": [
    "for tto in ['BLANCO', 'ASTRO PLKO', 'ASTRO 219', 'HEK PLKO', 'HEK 219']:\n",
    "    fig, ax = plt.subplots(1,1, figsize=(28,6))\n",
    "    sns.boxplot(data=df_MFR_norm[df_MFR_norm['condition'] == tto], x='time_exp', y='MFR_norm', ax=ax)\n",
    "    ax.set_title(tto + ' MERGED REPLICATES')\n",
    "    plt.show()\n",
    "\n",
    "    fig, ax = plt.subplots(1,1, figsize=(28,6))\n",
    "    sns.boxplot(data=df_MFR_norm[df_MFR_norm['condition'] == tto], x='time_exp', y='MFR_norm', ax=ax, hue='replicate')\n",
    "    ax.set_title(tto + ' INDIVIDUAL REPLICATES')\n",
    "    plt.show()"
   ]
  },
  {
   "cell_type": "code",
   "execution_count": null,
   "metadata": {},
   "outputs": [],
   "source": [
    "fig, ax = plt.subplots(1,1, figsize=(28,6))\n",
    "sns.boxplot(data=df_MFR_norm[df_MFR_norm['condition'].isin(['BLANCO', 'ASTRO PLKO', 'ASTRO 219'])], x='time_exp', y='MFR_norm',\n",
    "            hue='condition',  ax=ax, hue_order=['BLANCO', 'ASTRO PLKO', 'ASTRO 219'])\n",
    "ax.set_title(tto + ' MERGED REPLICATES')\n",
    "plt.show()"
   ]
  },
  {
   "cell_type": "code",
   "execution_count": null,
   "metadata": {},
   "outputs": [],
   "source": [
    "fig, ax = plt.subplots(1,1, figsize=(28,6))\n",
    "sns.boxplot(data=df_MFR_norm[df_MFR_norm['condition'].isin(['BLANCO', 'HEK PLKO', 'HEK 219'])], x='time_exp', y='MFR_norm',\n",
    "            hue='condition',  ax=ax, hue_order=['BLANCO', 'HEK PLKO', 'HEK 219'])\n",
    "ax.set_title(tto + ' MERGED REPLICATES')\n",
    "plt.show()"
   ]
  },
  {
   "cell_type": "markdown",
   "metadata": {},
   "source": [
    "## Double correcting for BLANCO\n",
    "We are going to calculate a correcting factor for each condition by averaging the value on the control and setting it to 1 in the MFR."
   ]
  },
  {
   "cell_type": "code",
   "execution_count": null,
   "metadata": {},
   "outputs": [],
   "source": [
    "control_col = 'BLANCO'\n",
    "\n",
    "df_MFR_norm['MFR_norm_control'] = df_MFR_norm['MFR_norm']\n",
    "\n",
    "for timepoint in df_MFR_norm['time_exp'].unique():\n",
    "    df_sub_ctrl = df_MFR_norm[(df_MFR_norm['condition'] == control_col) & (df_MFR_norm['time_exp'] == timepoint)]\n",
    "    mean_MFR = df_sub_ctrl['MFR_norm'].values.mean()\n",
    "\n",
    "    df_MFR_norm.loc[df_MFR_norm['time_exp'] == timepoint, 'MFR_norm_control'] /= mean_MFR"
   ]
  },
  {
   "cell_type": "code",
   "execution_count": null,
   "metadata": {},
   "outputs": [],
   "source": [
    "fig, ax = plt.subplots(1,1, figsize=(28,6))\n",
    "sns.boxplot(data=df_MFR_norm[df_MFR_norm['condition'].isin(['BLANCO', 'ASTRO PLKO', 'ASTRO 219'])], x='time_exp', y='MFR_norm_control',\n",
    "            hue='condition',  ax=ax, hue_order=['BLANCO', 'ASTRO PLKO', 'ASTRO 219'])\n",
    "ax.set_title(tto + ' MERGED REPLICATES')\n",
    "plt.show()"
   ]
  },
  {
   "cell_type": "code",
   "execution_count": null,
   "metadata": {},
   "outputs": [],
   "source": [
    "fig, ax = plt.subplots(1,1, figsize=(28,6))\n",
    "sns.lineplot(data=df_MFR_norm[df_MFR_norm['condition'].isin(['BLANCO', 'ASTRO PLKO', 'ASTRO 219'])], x='time_exp', y='MFR_norm_control',\n",
    "            hue='condition',  ax=ax, hue_order=['BLANCO', 'ASTRO PLKO', 'ASTRO 219'], markers=True, dashes=False, alpha=1, errorbar='sd')\n",
    "ax.set_title(tto + ' MERGED REPLICATES')\n",
    "plt.show()"
   ]
  },
  {
   "cell_type": "code",
   "execution_count": null,
   "metadata": {},
   "outputs": [],
   "source": [
    "fig, ax = plt.subplots(1,1, figsize=(28,6))\n",
    "sns.boxplot(data=df_MFR_norm[df_MFR_norm['condition'].isin(['BLANCO', 'HEK PLKO', 'HEK 219'])], x='time_exp', y='MFR_norm_control',\n",
    "            hue='condition',  ax=ax, hue_order=['BLANCO', 'HEK PLKO', 'HEK 219'])\n",
    "ax.set_title(tto + ' MERGED REPLICATES')\n",
    "plt.show()"
   ]
  },
  {
   "cell_type": "code",
   "execution_count": null,
   "metadata": {},
   "outputs": [],
   "source": [
    "fig, ax = plt.subplots(1,1, figsize=(28,6))\n",
    "sns.lineplot(data=df_MFR_norm[df_MFR_norm['condition'].isin(['BLANCO', 'HEK PLKO', 'HEK 219'])], x='time_exp', y='MFR_norm_control',\n",
    "            hue='condition',  ax=ax, hue_order=['BLANCO', 'HEK PLKO', 'HEK 219'], errorbar='sd', markers=True, dashes=False, alpha=1)\n",
    "ax.set_title(tto + ' MERGED REPLICATES')\n",
    "plt.show()"
   ]
  },
  {
   "cell_type": "markdown",
   "metadata": {},
   "source": [
    "## Evaluating the conditions with a Mixed Models ANOVA"
   ]
  },
  {
   "cell_type": "code",
   "execution_count": null,
   "metadata": {},
   "outputs": [],
   "source": [
    "# ASTROS\n",
    "\n",
    "\n",
    "df_MFR_norm_astro = df_MFR_norm[df_MFR_norm['condition'].isin(['BLANCO', 'ASTRO PLKO', 'ASTRO 219'])]\n",
    "df_MFR_norm_astro['well_electrode'] = df_MFR_norm_astro['well'].astype(str) + ' | ' + df_MFR_norm_astro['electrode'].astype(str)\n",
    "\n",
    "for col in [\"condition\", \"well_electrode\", \"replicate\"]:\n",
    "    df_MFR_norm_astro[col] = df_MFR_norm_astro[col].astype(\"category\")\n",
    "\n",
    "df_MFR_norm_astro[\"condition\"] = df_MFR_norm_astro[\"condition\"].cat.reorder_categories([\"BLANCO\", \"ASTRO PLKO\", \"ASTRO 219\"], ordered=True)\n",
    "\n",
    "\n",
    "# \n",
    "anova_results = pg.mixed_anova(\n",
    "    dv=\"MFR_norm_control\",\n",
    "    within=\"min\", \n",
    "    between=\"condition\",  \n",
    "    subject=\"well_electrode\", \n",
    "    data=df_MFR_norm_astro\n",
    ")\n",
    "\n",
    "display(anova_results)\n",
    "\n",
    "\n",
    "tukey_results = pg.pairwise_tukey(data=df_MFR_norm_astro, dv=\"MFR_norm_control\", between=\"condition\")\n",
    "display(tukey_results)\n"
   ]
  },
  {
   "cell_type": "code",
   "execution_count": null,
   "metadata": {},
   "outputs": [],
   "source": [
    "# HEK\n",
    "\n",
    "df_MFR_norm_HEK = df_MFR_norm[df_MFR_norm['condition'].isin(['BLANCO', 'HEK PLKO', 'HEK 219'])]\n",
    "df_MFR_norm_HEK['well_electrode'] = df_MFR_norm_HEK['well'].astype(str) + ' | ' + df_MFR_norm_HEK['electrode'].astype(str)\n",
    "\n",
    "for col in [\"condition\", \"well_electrode\", \"replicate\"]:\n",
    "    df_MFR_norm_HEK[col] = df_MFR_norm_HEK[col].astype(\"category\")\n",
    "\n",
    "df_MFR_norm_HEK[\"condition\"] = df_MFR_norm_HEK[\"condition\"].cat.reorder_categories(['BLANCO', 'HEK PLKO', 'HEK 219'], ordered=True)\n",
    "\n",
    "# Modelo Lineal Mixto (LMM)\n",
    "anova_results = pg.mixed_anova(\n",
    "    dv=\"MFR_norm_control\",\n",
    "    within=\"min\", \n",
    "    between=\"condition\",  \n",
    "    subject=\"well_electrode\", \n",
    "    data=df_MFR_norm_HEK\n",
    ")\n",
    "\n",
    "display(anova_results)\n",
    "\n",
    "\n",
    "tukey_results = pg.pairwise_tukey(data=df_MFR_norm_HEK, dv=\"MFR_norm_control\", between=\"condition\")\n",
    "display(tukey_results)"
   ]
  }
 ],
 "metadata": {
  "kernelspec": {
   "display_name": "MEAs",
   "language": "python",
   "name": "python3"
  },
  "language_info": {
   "codemirror_mode": {
    "name": "ipython",
    "version": 3
   },
   "file_extension": ".py",
   "mimetype": "text/x-python",
   "name": "python",
   "nbconvert_exporter": "python",
   "pygments_lexer": "ipython3",
   "version": "3.13.2"
  }
 },
 "nbformat": 4,
 "nbformat_minor": 4
}
