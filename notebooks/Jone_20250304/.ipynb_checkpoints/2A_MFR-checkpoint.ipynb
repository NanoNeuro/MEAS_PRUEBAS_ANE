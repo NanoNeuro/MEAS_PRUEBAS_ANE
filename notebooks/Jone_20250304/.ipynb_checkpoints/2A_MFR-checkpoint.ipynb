{
 "cells": [
  {
   "cell_type": "code",
   "execution_count": null,
   "metadata": {
    "tags": []
   },
   "outputs": [],
   "source": [
    "import pandas as pd\n",
    "import matplotlib.pyplot as plt\n",
    "import matplotlib as mpl\n",
    "import numpy as np\n",
    "import time\n",
    "import datetime as dt\n",
    "import os\n",
    "import seaborn as sns\n",
    "import scipy.stats as sts\n",
    "\n",
    "import random\n",
    "import string\n",
    "\n",
    "import polars as pl"
   ]
  },
  {
   "cell_type": "code",
   "execution_count": null,
   "metadata": {},
   "outputs": [],
   "source": [
    "from nb_vars import FOLDER_INTERMEDIATE, FOLDER_OUTPUT, CUTOFF_SPIKES_HZ"
   ]
  },
  {
   "cell_type": "markdown",
   "metadata": {},
   "source": [
    "## Load df of filtered peaks"
   ]
  },
  {
   "cell_type": "code",
   "execution_count": null,
   "metadata": {},
   "outputs": [],
   "source": [
    "CONDITION_NAME = \"EXPERIMENTO\"\n",
    "CONDITION = \"1\"  \n",
    "\n",
    "folder_input =  f'{FOLDER_INTERMEDIATE}/{CONDITION_NAME} {CONDITION}'\n",
    "\n",
    "df_peaks_exp_1 = pl.read_csv(f'{folder_input}/df_peaks_full_{CONDITION_NAME}_{CONDITION}_freq_{CUTOFF_SPIKES_HZ}.csv').to_pandas()\n"
   ]
  },
  {
   "cell_type": "code",
   "execution_count": null,
   "metadata": {},
   "outputs": [],
   "source": [
    "CONDITION_NAME = \"CONTROL\"\n",
    "CONDITION = \"1\" \n",
    "\n",
    "folder_input =  f'{FOLDER_INTERMEDIATE}/{CONDITION_NAME} {CONDITION}'\n",
    "\n",
    "df_peaks_ctrl_1 = pl.read_csv(f'{folder_input}/df_peaks_full_{CONDITION_NAME}_{CONDITION}_freq_{CUTOFF_SPIKES_HZ}.csv').to_pandas()"
   ]
  },
  {
   "cell_type": "code",
   "execution_count": null,
   "metadata": {},
   "outputs": [],
   "source": [
    "CONDITION_NAME = \"EXPERIMENTO\"\n",
    "CONDITION = \"2\" \n",
    "\n",
    "folder_input =  f'{FOLDER_INTERMEDIATE}/{CONDITION_NAME} {CONDITION}'\n",
    "\n",
    "df_peaks_exp_2 = pl.read_csv(f'{folder_input}/df_peaks_full_{CONDITION_NAME}_{CONDITION}_freq_{CUTOFF_SPIKES_HZ}.csv').to_pandas()\n"
   ]
  },
  {
   "cell_type": "code",
   "execution_count": null,
   "metadata": {},
   "outputs": [],
   "source": [
    "CONDITION_NAME = \"CONTROL\"\n",
    "CONDITION = \"2\" \n",
    "\n",
    "folder_input =  f'{FOLDER_INTERMEDIATE}/{CONDITION_NAME} {CONDITION}'\n",
    "\n",
    "df_peaks_ctrl_2 = pl.read_csv(f'{folder_input}/df_peaks_full_{CONDITION_NAME}_{CONDITION}_freq_{CUTOFF_SPIKES_HZ}.csv').to_pandas()"
   ]
  },
  {
   "cell_type": "code",
   "execution_count": null,
   "metadata": {},
   "outputs": [],
   "source": [
    "def adapt_MFR_df(df):\n",
    "    df['day'] = [1 if '24h' in i else 0 for i in df['time_exp']]\n",
    "    df.loc[df['time_exp'] == 'Base', 'day'] = -1 \n",
    "    df['min'] = [int(i.replace('24h + ', '').replace(' min', '')) if i != 'Base' else 0 for i in df['time_exp']]\n",
    "\n",
    "    df = df.sort_values(by=['day', 'min'])\n",
    "\n",
    "    df['condition_time'] = df['condition'] + ' | ' + df['time_exp']\n",
    "    df['condition_time'] = df['condition_time'].apply(lambda x: x.replace(' min', '').replace('h + ', '_'))\n",
    "\n",
    "    df['time_exp'] = df['time_exp'].apply(lambda x: x.replace(' min', '´'))\n",
    "\n",
    "    return df"
   ]
  },
  {
   "cell_type": "markdown",
   "metadata": {},
   "source": [
    "## Relative change in MFR (without Baseline normalisation)"
   ]
  },
  {
   "cell_type": "markdown",
   "metadata": {},
   "source": [
    "### EXPERIMENT 1"
   ]
  },
  {
   "cell_type": "code",
   "execution_count": null,
   "metadata": {},
   "outputs": [],
   "source": [
    "df_MFR_ctrl_1 = df_peaks_ctrl_1.groupby(['condition', 'time_exp', 'well', 'replicate', 'electrode']).count()['time'] / (df_peaks_ctrl_1['time'].max() - df_peaks_ctrl_1['time'].min())\n",
    "df_MFR_ctrl_1 = df_MFR_ctrl_1.reset_index().sort_values(by=['condition', 'time_exp','well', 'electrode'])\n",
    "df_MFR_ctrl_1 = df_MFR_ctrl_1.rename(columns={'time': 'MFR'})\n",
    "\n",
    "df_MFR_ctrl_1 = adapt_MFR_df(df_MFR_ctrl_1)\n",
    "df_MFR_ctrl_1\n",
    "\n",
    "fig, ax = plt.subplots(1,1, figsize=(28,6))\n",
    "sns.boxplot(data=df_MFR_ctrl_1, x='time_exp', y='MFR', hue = 'replicate', ax=ax)\n"
   ]
  },
  {
   "cell_type": "code",
   "execution_count": null,
   "metadata": {},
   "outputs": [],
   "source": [
    "df_MFR_exp_1 = df_peaks_exp_1.groupby(['condition', 'time_exp', 'well', 'replicate', 'electrode']).count()['time'] / (df_peaks_exp_1['time'].max() - df_peaks_exp_1['time'].min())\n",
    "df_MFR_exp_1 = df_MFR_exp_1.reset_index().sort_values(by=['condition', 'time_exp','well', 'electrode'])\n",
    "df_MFR_exp_1 = df_MFR_exp_1.rename(columns={'time': 'MFR'})\n",
    "\n",
    "df_MFR_exp_1 = adapt_MFR_df(df_MFR_exp_1)\n",
    "df_MFR_exp_1"
   ]
  },
  {
   "cell_type": "code",
   "execution_count": null,
   "metadata": {},
   "outputs": [],
   "source": [
    "df_MFR_ctrl_exp_1 = pd.concat([df_MFR_ctrl_1, df_MFR_exp_1])\n",
    "\n",
    "fig, ax = plt.subplots(1,1, figsize=(28,6))\n",
    "sns.boxplot(data=df_MFR_ctrl_exp_1, x='time_exp', y='MFR', hue = 'condition', ax=ax)\n",
    "plt.show()\n"
   ]
  },
  {
   "cell_type": "code",
   "execution_count": null,
   "metadata": {},
   "outputs": [],
   "source": [
    "for tto in ['H PLKO', 'H 219', 'LIPOS -', 'LIPOS 219']:\n",
    "    fig, ax = plt.subplots(1,1, figsize=(28,6))\n",
    "    sns.boxplot(data=df_MFR_exp_1, x='time_exp', y='MFR', ax=ax)\n",
    "    ax.set_title(tto + ' MERGED REPLICATES')\n",
    "    plt.show()\n",
    "\n",
    "    fig, ax = plt.subplots(1,1, figsize=(28,6))\n",
    "    sns.boxplot(data=df_MFR_exp_1, x='time_exp', y='MFR', ax=ax, hue='replicate')\n",
    "    ax.set_title(tto + ' INDIVIDUAL REPLICATES')\n",
    "    plt.show()"
   ]
  },
  {
   "cell_type": "markdown",
   "metadata": {},
   "source": [
    "### EXPERIMENT 2"
   ]
  },
  {
   "cell_type": "code",
   "execution_count": null,
   "metadata": {},
   "outputs": [],
   "source": [
    "df_MFR_ctrl_2 = df_peaks_ctrl_2.groupby(['condition', 'time_exp', 'well', 'replicate', 'electrode']).count()['time'] / (df_peaks_ctrl_2['time'].max() - df_peaks_ctrl_2['time'].min())\n",
    "df_MFR_ctrl_2 = df_MFR_ctrl_2.reset_index().sort_values(by=['condition', 'time_exp','well', 'electrode'])\n",
    "df_MFR_ctrl_2 = df_MFR_ctrl_2.rename(columns={'time': 'MFR'})\n",
    "\n",
    "df_MFR_ctrl_2 = adapt_MFR_df(df_MFR_ctrl_2)\n",
    "df_MFR_ctrl_2\n",
    "\n",
    "fig, ax = plt.subplots(1,1, figsize=(28,6))\n",
    "sns.boxplot(data=df_MFR_ctrl_2, x='time_exp', y='MFR', hue = 'replicate', ax=ax)"
   ]
  },
  {
   "cell_type": "code",
   "execution_count": null,
   "metadata": {},
   "outputs": [],
   "source": [
    "df_MFR_exp_2 = df_peaks_exp_2.groupby(['condition', 'time_exp', 'well', 'replicate', 'electrode']).count()['time'] / (df_peaks_exp_2['time'].max() - df_peaks_exp_2['time'].min())\n",
    "df_MFR_exp_2 = df_MFR_exp_2.reset_index().sort_values(by=['condition', 'time_exp','well', 'electrode'])\n",
    "df_MFR_exp_2 = df_MFR_exp_2.rename(columns={'time': 'MFR'})\n",
    "\n",
    "df_MFR_exp_2 = adapt_MFR_df(df_MFR_exp_2)\n",
    "df_MFR_exp_2"
   ]
  },
  {
   "cell_type": "code",
   "execution_count": null,
   "metadata": {},
   "outputs": [],
   "source": [
    "df_MFR_ctrl_exp_2 = pd.concat([df_MFR_ctrl_2, df_MFR_exp_2])\n",
    "\n",
    "fig, ax = plt.subplots(1,1, figsize=(28,6))\n",
    "sns.boxplot(data=df_MFR_ctrl_exp_2, x='time_exp', y='MFR', hue = 'condition', ax=ax)\n",
    "plt.show()"
   ]
  },
  {
   "cell_type": "code",
   "execution_count": null,
   "metadata": {},
   "outputs": [],
   "source": [
    "fig, ax = plt.subplots(1,1, figsize=(28,6))\n",
    "sns.boxplot(data=df_MFR_ctrl_2, x='time_exp', y='MFR', hue = 'replicate', ax=ax)\n",
    "plt.show()"
   ]
  },
  {
   "cell_type": "code",
   "execution_count": null,
   "metadata": {},
   "outputs": [],
   "source": [
    "df_MFR_2 = df_peaks_exp_2.groupby(['condition', 'time_exp', 'well', 'replicate', 'electrode']).count()['time'] / (df_peaks_exp_2['time'].max() - df_peaks_exp_2['time'].min())\n",
    "df_MFR_2 = df_MFR_2.reset_index().sort_values(by=['well', 'electrode'])\n",
    "df_MFR_2 = df_MFR_2.rename(columns={'time': 'MFR'})\n",
    "\n",
    "df_MFR_2 = adapt_MFR_df(df_MFR_2)\n",
    "df_MFR_2"
   ]
  },
  {
   "cell_type": "code",
   "execution_count": null,
   "metadata": {},
   "outputs": [],
   "source": [
    "for tto in ['GLIO PLKO', 'GLIO 219', 'LIPOS -', 'ASTRO 219']:\n",
    "    df_MFR_2_sub = df_MFR_2[df_MFR_2['condition'].isin(['BASAL', tto])]\n",
    "    df_MFR_2_sub.loc[df_MFR_2_sub['condition'] == 'BASAL', 'time_exp'] = 'B'\n",
    "\n",
    "    print(tto)\n",
    "    fig, ax = plt.subplots(1,1, figsize=(28,6))\n",
    "    sns.boxplot(data=df_MFR_2_sub, x='time_exp', y='MFR', ax=ax)\n",
    "    ax.set_title(tto + ' MERGED REPLICATES')\n",
    "    plt.show()\n",
    "\n",
    "    fig, ax = plt.subplots(1,1, figsize=(28,6))\n",
    "    sns.boxplot(data=df_MFR_2_sub, x='time_exp', y='MFR', ax=ax, hue='replicate')\n",
    "    ax.set_title(tto + ' INDIVIDUAL REPLICATES')\n",
    "    plt.show()"
   ]
  },
  {
   "cell_type": "markdown",
   "metadata": {},
   "source": [
    "## Relative change in MFR (with Baseline normalisation)"
   ]
  },
  {
   "cell_type": "code",
   "execution_count": null,
   "metadata": {},
   "outputs": [],
   "source": [
    "def normalize_MFR(df, condition):\n",
    "    df_sub = df[df['condition'] == condition]\n",
    "    base_df = df_sub[df_sub['time_exp'] == 'Base']\n",
    "    rest_df = df_sub[df_sub['time_exp'] != 'Base']\n",
    "\n",
    "    norm_df = rest_df.copy()\n",
    "    norm_df = norm_df.rename(columns={'MFR': 'MFR_norm'})\n",
    "\n",
    "    list_wells_electrodes = base_df[['well', 'electrode']].values\n",
    "\n",
    "    for well, electrode in zip(list_wells_electrodes.T[0],list_wells_electrodes.T[1]):\n",
    "        MFR_top = rest_df.loc[(rest_df['well'] == well) & (rest_df['electrode'] == electrode), 'MFR'].values\n",
    "        MFR_base = base_df.loc[(base_df['well'] == well) & (base_df['electrode'] == electrode), 'MFR'].values\n",
    "\n",
    "        MFR_norm = (MFR_top / MFR_base)**0.5  # This helps reduce some noise in the data\n",
    "\n",
    "        norm_df.loc[(norm_df['well'] == well) & (norm_df['electrode'] == electrode), 'MFR_norm'] = MFR_norm\n",
    "\n",
    "    return norm_df"
   ]
  },
  {
   "cell_type": "markdown",
   "metadata": {},
   "source": [
    "### EXPERIMENT 1"
   ]
  },
  {
   "cell_type": "code",
   "execution_count": null,
   "metadata": {},
   "outputs": [],
   "source": [
    "df_MFR_ctrl_1_norm = normalize_MFR(df_MFR_ctrl_1, condition='CONTROL')\n",
    "\n",
    "fig, ax = plt.subplots(1,1, figsize=(28,6))\n",
    "sns.boxplot(data=df_MFR_ctrl_1_norm, x='time_exp', y='MFR_norm', hue = 'replicate', ax=ax)\n",
    "ax.set_ylim([0, 2.5])"
   ]
  },
  {
   "cell_type": "code",
   "execution_count": null,
   "metadata": {},
   "outputs": [],
   "source": [
    "df_MFR_exp_1_norm_list = [normalize_MFR(df_MFR_exp_1, condition=condition) for condition in df_MFR_exp_1['condition'].drop_duplicates().values]\n",
    "df_MFR_exp_1_norm = pd.concat(df_MFR_exp_1_norm_list)\n",
    "\n",
    "df_MFR_ctrl_exp_1_norm = pd.concat([df_MFR_ctrl_1_norm, df_MFR_exp_1_norm])\n",
    "\n",
    "\n",
    "fig, ax = plt.subplots(1,1, figsize=(28,6))\n",
    "sns.boxplot(data=df_MFR_ctrl_exp_1_norm, x='time_exp', y='MFR_norm', hue = 'condition', ax=ax)\n",
    "ax.set_ylim([0, 3])\n",
    "plt.show()\n"
   ]
  },
  {
   "cell_type": "code",
   "execution_count": null,
   "metadata": {},
   "outputs": [],
   "source": [
    "for tto in df_MFR_ctrl_exp_1_norm['condition'].drop_duplicates().values:\n",
    "    fig, ax = plt.subplots(1,1, figsize=(28,6))\n",
    "    sns.boxplot(data=df_MFR_ctrl_exp_1_norm, x='time_exp', y='MFR_norm', ax=ax)\n",
    "    ax.set_title(tto + ' MERGED REPLICATES')\n",
    "    ax.set_ylim([0, 3])\n",
    "    plt.show()\n",
    "\n",
    "    fig, ax = plt.subplots(1,1, figsize=(28,6))\n",
    "    sns.boxplot(data=df_MFR_ctrl_exp_1_norm, x='time_exp', y='MFR_norm', ax=ax, hue='replicate')\n",
    "    ax.set_title(tto + ' INDIVIDUAL REPLICATES')\n",
    "    ax.set_ylim([0, 3])\n",
    "    plt.show()"
   ]
  },
  {
   "cell_type": "markdown",
   "metadata": {},
   "source": [
    "### EXPERIMENT 2"
   ]
  },
  {
   "cell_type": "code",
   "execution_count": null,
   "metadata": {},
   "outputs": [],
   "source": [
    "df_MFR_ctrl_2_norm = normalize_MFR(df_MFR_ctrl_2, condition='CONTROL')\n",
    "\n",
    "fig, ax = plt.subplots(1,1, figsize=(28,6))\n",
    "sns.boxplot(data=df_MFR_ctrl_2_norm, x='time_exp', y='MFR_norm', hue = 'replicate', ax=ax)\n",
    "ax.set_ylim([0, 2])"
   ]
  },
  {
   "cell_type": "code",
   "execution_count": null,
   "metadata": {},
   "outputs": [],
   "source": [
    "df_MFR_exp_2_norm_list = [normalize_MFR(df_MFR_exp_2, condition=condition) for condition in df_MFR_exp_2['condition'].drop_duplicates().values]\n",
    "df_MFR_exp_2_norm = pd.concat(df_MFR_exp_2_norm_list)\n",
    "\n",
    "df_MFR_ctrl_exp_2_norm = pd.concat([df_MFR_ctrl_2_norm, df_MFR_exp_2_norm])\n",
    "\n",
    "\n",
    "fig, ax = plt.subplots(1,1, figsize=(28,6))\n",
    "sns.boxplot(data=df_MFR_ctrl_exp_2_norm, x='time_exp', y='MFR_norm', hue = 'condition', ax=ax)\n",
    "ax.set_ylim([0, 3])\n",
    "plt.show()"
   ]
  },
  {
   "cell_type": "code",
   "execution_count": null,
   "metadata": {},
   "outputs": [],
   "source": [
    "for tto in df_MFR_ctrl_exp_2_norm['condition'].drop_duplicates().values:\n",
    "    fig, ax = plt.subplots(1,1, figsize=(28,6))\n",
    "    sns.boxplot(data=df_MFR_ctrl_exp_2_norm, x='time_exp', y='MFR_norm', ax=ax)\n",
    "    ax.set_title(tto + ' MERGED REPLICATES')\n",
    "    plt.show()\n",
    "\n",
    "    fig, ax = plt.subplots(1,1, figsize=(28,6))\n",
    "    sns.boxplot(data=df_MFR_ctrl_exp_2_norm, x='time_exp', y='MFR_norm', ax=ax, hue='replicate')\n",
    "    ax.set_title(tto + ' INDIVIDUAL REPLICATES')\n",
    "    plt.show()"
   ]
  },
  {
   "cell_type": "markdown",
   "metadata": {},
   "source": [
    "## Plotting Exp1 and Exp2 together"
   ]
  },
  {
   "cell_type": "code",
   "execution_count": null,
   "metadata": {},
   "outputs": [],
   "source": [
    "df_MFR_ctrl_exp_12_norm = pd.concat([df_MFR_ctrl_exp_1_norm, df_MFR_ctrl_exp_2_norm])\n",
    "df_MFR_ctrl_exp_12_norm['experiment'] = ['1'] * len(df_MFR_ctrl_exp_1_norm) + ['2'] * len(df_MFR_ctrl_exp_2_norm)\n",
    "\n",
    "df_MFR_ctrl_exp_12_norm['condition_experiment'] = df_MFR_ctrl_exp_12_norm['condition'] + ' ' + df_MFR_ctrl_exp_12_norm['experiment']"
   ]
  },
  {
   "cell_type": "code",
   "execution_count": null,
   "metadata": {},
   "outputs": [],
   "source": [
    "df_MFR_ctrl_exp_12_norm = df_MFR_ctrl_exp_12_norm[df_MFR_ctrl_exp_12_norm['time_exp'] != '180´']"
   ]
  },
  {
   "cell_type": "code",
   "execution_count": null,
   "metadata": {},
   "outputs": [],
   "source": [
    "fig, ax = plt.subplots(1,1, figsize=(35,6))\n",
    "sns.boxplot(data=df_MFR_ctrl_exp_12_norm, x='time_exp', y='MFR_norm', hue = 'condition_experiment', ax=ax)\n",
    "ax.set_ylim([0, 3])\n",
    "plt.show()"
   ]
  },
  {
   "cell_type": "code",
   "execution_count": null,
   "metadata": {},
   "outputs": [],
   "source": [
    "fig, ax = plt.subplots(1,1, figsize=(35,6))\n",
    "sns.lineplot(data=df_MFR_ctrl_exp_12_norm[df_MFR_ctrl_exp_12_norm['condition'].isin(['GLIO 219', 'H 219', 'LIPOS 219', 'ASTRO 219'])], x='time_exp', y='MFR_norm', hue = 'condition_experiment', ax=ax)\n",
    "ax.set_ylim([0, 3])\n",
    "plt.show()"
   ]
  },
  {
   "cell_type": "code",
   "execution_count": null,
   "metadata": {},
   "outputs": [],
   "source": [
    "fig, ax = plt.subplots(1,1, figsize=(35,6))\n",
    "sns.lineplot(data=df_MFR_ctrl_exp_12_norm[df_MFR_ctrl_exp_12_norm['condition'].isin(['GLIO 219', 'GLIO PLKO'])], x='time_exp', y='MFR_norm', hue = 'condition_experiment', ax=ax)\n",
    "ax.set_ylim([0, 3])\n",
    "plt.show()"
   ]
  },
  {
   "cell_type": "code",
   "execution_count": null,
   "metadata": {},
   "outputs": [],
   "source": [
    "fig, ax = plt.subplots(1,1, figsize=(35,6))\n",
    "sns.lineplot(data=df_MFR_ctrl_exp_12_norm[df_MFR_ctrl_exp_12_norm['condition'].isin(['H 219', 'H PLKO'])], x='time_exp', y='MFR_norm', hue = 'condition_experiment', ax=ax)\n",
    "ax.set_ylim([0, 3])\n",
    "plt.show()"
   ]
  },
  {
   "cell_type": "code",
   "execution_count": null,
   "metadata": {},
   "outputs": [],
   "source": [
    "fig, ax = plt.subplots(1,1, figsize=(35,6))\n",
    "sns.lineplot(data=df_MFR_ctrl_exp_12_norm[df_MFR_ctrl_exp_12_norm['condition'].isin(['LIPOS 219', 'LIPOS -'])], x='time_exp', y='MFR_norm', hue = 'condition_experiment', ax=ax)\n",
    "ax.set_ylim([0, 3])\n",
    "plt.show()"
   ]
  },
  {
   "cell_type": "markdown",
   "metadata": {},
   "source": [
    "**Conclusions derived from the exp 1+2 analysis with baseline normalization**\n",
    "\n",
    "- Exp 1 and Exp 2 are not directly comparable, although both suffer (in exp 1 is more pronounced) a decline in signal at the beginning, which tends to neutralize towards the end, and keeps at the same rate at 24h (approx).\n",
    "- Respective to their experiments, lipos are the condition that most decrease the MFR.\n",
    "- In Exp 1, lipos 219 shows higher decrease than lipos, but H 219 is increased compared to H PLKO.\n",
    "- In Exp 2, GLIO PLKO and 219 show a similar effect."
   ]
  },
  {
   "cell_type": "markdown",
   "metadata": {},
   "source": [
    "## Regressing plaque 1 and 2 info\n",
    "\n",
    "We are going to apply a correction factor (general across all times) so that plaque 1 control's mean equals plaque 2 control's mean equal 1."
   ]
  },
  {
   "cell_type": "code",
   "execution_count": null,
   "metadata": {},
   "outputs": [],
   "source": [
    "mean_CTRL_1_MFR = df_MFR_ctrl_exp_12_norm[(df_MFR_ctrl_exp_12_norm['condition_experiment'] == 'CONTROL 1') & (df_MFR_ctrl_exp_12_norm['time_exp'] == '0´')]['MFR_norm'].median()\n",
    "mean_CTRL_2_MFR = df_MFR_ctrl_exp_12_norm[(df_MFR_ctrl_exp_12_norm['condition_experiment'] == 'CONTROL 2') & (df_MFR_ctrl_exp_12_norm['time_exp'] == '0´')]['MFR_norm'].median()"
   ]
  },
  {
   "cell_type": "code",
   "execution_count": null,
   "metadata": {},
   "outputs": [],
   "source": [
    "df_MFR_ctrl_exp_12_regress = df_MFR_ctrl_exp_12_norm.copy()\n",
    "\n",
    "df_MFR_ctrl_exp_12_regress.loc[df_MFR_ctrl_exp_12_regress['experiment'] == '1', 'MFR_norm'] /= mean_CTRL_1_MFR\n",
    "df_MFR_ctrl_exp_12_regress.loc[df_MFR_ctrl_exp_12_regress['experiment'] == '2', 'MFR_norm'] /= mean_CTRL_2_MFR"
   ]
  },
  {
   "cell_type": "code",
   "execution_count": null,
   "metadata": {},
   "outputs": [],
   "source": [
    "fig, ax = plt.subplots(1,1, figsize=(35,6))\n",
    "sns.boxplot(data=df_MFR_ctrl_exp_12_regress, x='time_exp', y='MFR_norm', hue = 'condition_experiment', ax=ax)\n",
    "ax.set_ylim([0, 3])\n",
    "plt.show()"
   ]
  },
  {
   "cell_type": "code",
   "execution_count": null,
   "metadata": {},
   "outputs": [],
   "source": [
    "fig, ax = plt.subplots(1,1, figsize=(35,6))\n",
    "sns.lineplot(data=df_MFR_ctrl_exp_12_regress[df_MFR_ctrl_exp_12_regress['condition'].isin(['GLIO 219', 'H 219', 'LIPOS 219', 'ASTRO 219'])], x='time_exp', y='MFR_norm', hue = 'condition_experiment', ax=ax)\n",
    "ax.set_ylim([0, 3])\n",
    "plt.show()"
   ]
  },
  {
   "cell_type": "code",
   "execution_count": null,
   "metadata": {},
   "outputs": [],
   "source": [
    "fig, ax = plt.subplots(1,1, figsize=(35,6))\n",
    "sns.lineplot(data=df_MFR_ctrl_exp_12_regress[df_MFR_ctrl_exp_12_regress['condition'].isin(['GLIO 219', 'GLIO PLKO'])], x='time_exp', y='MFR_norm', hue = 'condition_experiment', ax=ax)\n",
    "ax.set_ylim([0, 3])\n",
    "plt.show()"
   ]
  },
  {
   "cell_type": "code",
   "execution_count": null,
   "metadata": {},
   "outputs": [],
   "source": [
    "fig, ax = plt.subplots(1,1, figsize=(35,6))\n",
    "sns.lineplot(data=df_MFR_ctrl_exp_12_regress[df_MFR_ctrl_exp_12_regress['condition'].isin(['H 219', 'H PLKO'])], x='time_exp', y='MFR_norm', hue = 'condition_experiment', ax=ax)\n",
    "ax.set_ylim([0, 3])\n",
    "plt.show()"
   ]
  },
  {
   "cell_type": "code",
   "execution_count": null,
   "metadata": {},
   "outputs": [],
   "source": [
    "fig, ax = plt.subplots(1,1, figsize=(35,6))\n",
    "sns.lineplot(data=df_MFR_ctrl_exp_12_regress[df_MFR_ctrl_exp_12_regress['condition'].isin(['LIPOS 219', 'LIPOS -'])], x='time_exp', y='MFR_norm', hue = 'condition_experiment', ax=ax)\n",
    "ax.set_ylim([0, 3])\n",
    "plt.show()"
   ]
  },
  {
   "cell_type": "markdown",
   "metadata": {},
   "source": [
    "# Using LMMs + sigmoid fitting to measure differences between conditions\n",
    "\n",
    "In this section we are going to compare HEK 219/PLKO and LIPOS 219/- to quantify the differences between both cases. In general, what we see is that although the linear model shows a statstically significant difference between 219 and -/PLKO, we see that the linear mixed model does not fit the data correctly. Therefore, we are going to fit a sigmoid curve and calculate the statistical differences between the fitted parameters for each replicate, and see if there is any explainable difference.\n",
    "\n",
    "The fitted sigmoid is represented as this:\n",
    "\n",
    "$$ \\frac{L}{1 + e^{-k * (t- t0)}} + S $$\n",
    "\n",
    "Where $L$ is the amplitude (max value) of the curve, $S$ is the minimum value, $k$ is the slope of the curve at the inflexion point and $t_0$ is the x-location of the inflexion point."
   ]
  },
  {
   "cell_type": "code",
   "execution_count": null,
   "metadata": {},
   "outputs": [],
   "source": [
    "import statsmodels.api as sm\n",
    "from statsmodels.formula.api import mixedlm\n",
    "import scipy.stats as sts\n",
    "from statsmodels.multivariate.manova import MANOVA\n",
    "from statsmodels.stats.multitest import multipletests\n",
    "from scipy.optimize import curve_fit\n"
   ]
  },
  {
   "cell_type": "code",
   "execution_count": null,
   "metadata": {},
   "outputs": [],
   "source": [
    "def sigmoid(t, L, k, t0, S):\n",
    "    return L / (1 + np.exp(-k * (t - t0))) + S"
   ]
  },
  {
   "cell_type": "code",
   "execution_count": null,
   "metadata": {},
   "outputs": [],
   "source": [
    "# These bounds are very important because otherwise the fitted values do not represent the data correctly (the fitting algorithm finds another minimum at a non-coherent position of parameters).\n",
    "# L, k, t0, S\n",
    "sigmoid_bounds = ((0.2, 0.001, 40, 0), (1.9, 1.2, 150, 0.5))"
   ]
  },
  {
   "cell_type": "code",
   "execution_count": null,
   "metadata": {},
   "outputs": [],
   "source": [
    "def plot_sigmoids_condition(data_sub_condition, array_condition):\n",
    "    fig = plt.figure(figsize=(20, 4))\n",
    "    data_sub_condition.loc[:, 'min_scatter_replicate'] = (data_sub_condition['min'] + data_sub_condition['replicate'] * 1 - 2.5)\n",
    "    sns.scatterplot(data=data_sub_condition, x='min_scatter_replicate', y='MFR_norm', hue='replicate')\n",
    "\n",
    "    # Create the df with the calculated sigmoig adjustments\n",
    "    x, y, replicates = [], [], []\n",
    "    for idx, rep in enumerate(data_sub_condition['replicate'].unique()):\n",
    "        L, k, t0, S = array_condition[idx, :]\n",
    "\n",
    "        for t in np.arange(max(data_sub['min'])):\n",
    "            x.append(t)\n",
    "            replicates.append(rep)\n",
    "            y.append(sigmoid(t, L, k, t0, S))\n",
    "\n",
    "\n",
    "    df_sigmoid = pd.DataFrame({'x': x, 'y': y, 'replicate': replicates})\n",
    "    sns.lineplot(data=df_sigmoid, x='x', y='y', hue='replicate', legend=False)\n"
   ]
  },
  {
   "cell_type": "markdown",
   "metadata": {},
   "source": [
    "## H 219 vs H PLKO (removing outliers)"
   ]
  },
  {
   "cell_type": "code",
   "execution_count": null,
   "metadata": {},
   "outputs": [],
   "source": [
    "data_sub = df_MFR_ctrl_exp_12_regress[(df_MFR_ctrl_exp_12_regress['day'] == 0) & (df_MFR_ctrl_exp_12_regress['condition'].isin(['H 219', 'H PLKO']))]\n",
    "data_sub = data_sub[data_sub['MFR_norm'] < 3]"
   ]
  },
  {
   "cell_type": "code",
   "execution_count": null,
   "metadata": {},
   "outputs": [],
   "source": [
    "# Example data structure\n",
    "\n",
    "# Fit the mixed-effects model\n",
    "model = mixedlm(\"MFR_norm ~ condition * min\", data_sub, groups=data_sub[\"replicate\"])\n",
    "result = model.fit()\n",
    "print(result.summary())"
   ]
  },
  {
   "cell_type": "code",
   "execution_count": null,
   "metadata": {},
   "outputs": [],
   "source": [
    "data_sub['predicted'] = result.predict()"
   ]
  },
  {
   "cell_type": "code",
   "execution_count": null,
   "metadata": {},
   "outputs": [],
   "source": [
    "# Set the aesthetic style of the plots\n",
    "sns.set_theme(style=\"whitegrid\")\n",
    "\n",
    "# Create a FacetGrid for plotting\n",
    "g = sns.FacetGrid(data_sub, col=\"condition\", height=5, aspect=1.5)\n",
    "\n",
    "# Plot the actual data\n",
    "g.map_dataframe(sns.scatterplot, x=\"min\", y=\"MFR_norm\", hue=\"replicate\", s=50, legend=False)\n",
    "\n",
    "# Plot the model predictions\n",
    "g.map_dataframe(sns.lineplot, x=\"min\", y=\"predicted\", hue=\"replicate\", style=\"replicate\", legend=False, ci=None)\n",
    "\n",
    "# Adjust the title and labels\n",
    "g.set_axis_labels(\"Time (min)\", \"MFR_norm\")\n",
    "g.set_titles(\"Condition: {col_name}\")\n",
    "\n",
    "# Show the plot\n",
    "\n",
    "plt.show()"
   ]
  },
  {
   "cell_type": "markdown",
   "metadata": {},
   "source": [
    "### Fitting a sigmoid"
   ]
  },
  {
   "cell_type": "code",
   "execution_count": null,
   "metadata": {},
   "outputs": [],
   "source": [
    "# Apply to each replicate\n",
    "data_sub_219 = data_sub[(data_sub['condition'] == 'H 219') & (data_sub['min'] > 0)] # Setting >=0 or >0 does nto alter the S values a lot\n",
    "params_219, _ = curve_fit(sigmoid, data_sub_219['min'], data_sub_219['MFR_norm'], maxfev=25000, bounds=sigmoid_bounds)\n",
    "\n",
    "\n",
    "data_sub_plko = data_sub[(data_sub['condition'] == 'H PLKO')  & (data_sub['min'] > 0)]\n",
    "params_plko, _ = curve_fit(sigmoid, data_sub_plko['min'], data_sub_plko['MFR_norm'], maxfev=25000, bounds=sigmoid_bounds)\n",
    "\n",
    "\n",
    "\n",
    "\n",
    "fig, ax = plt.subplots(1,1, figsize=(35,6))\n",
    "sns.boxplot(data=data_sub, x='time_exp', y='MFR_norm', hue = 'condition_experiment', ax=ax)\n",
    "ax.set_ylim([0, 3])\n",
    "\n",
    "plt.plot(np.arange(170)/10, sigmoid(np.arange(170), params_219[0], params_219[1], params_219[2], params_219[3]))\n",
    "plt.plot(np.arange(170)/10, sigmoid(np.arange(170), params_plko[0], params_plko[1], params_plko[2], params_plko[3]))\n",
    "\n",
    "plt.show()"
   ]
  },
  {
   "cell_type": "code",
   "execution_count": null,
   "metadata": {},
   "outputs": [],
   "source": [
    "# Replicate and test if the differences between parameters are statistically significant\n",
    "\n",
    "array_params_219 = np.zeros((len(data_sub[data_sub['condition'] == 'H 219']['replicate'].unique()), 4))\n",
    "array_params_plko = np.zeros((len(data_sub[data_sub['condition'] == 'H PLKO']['replicate'].unique()), 4))\n",
    "\n",
    "for replicate in data_sub[data_sub['condition'] == 'H 219']['replicate'].unique():\n",
    "    data_sub_219_rep = data_sub[(data_sub['condition'] == 'H 219') & (data_sub['replicate'] == replicate) & (data_sub['min'] > 0)] # Setting >=0 or >0 does nto alter the S values a lot\n",
    "    params_219, _ = curve_fit(sigmoid, data_sub_219_rep['min'], data_sub_219_rep['MFR_norm'], maxfev=25000, bounds=sigmoid_bounds)\n",
    "    array_params_219[replicate - 1, :] = params_219\n",
    "\n",
    "for replicate in data_sub[data_sub['condition'] == 'H PLKO']['replicate'].unique():\n",
    "    data_sub_plko_rep = data_sub[(data_sub['condition'] == 'H PLKO') & (data_sub['replicate'] == replicate) & (data_sub['min'] > 0)] # Setting >=0 or >0 does nto alter the S values a lot\n",
    "    params_plko, _ = curve_fit(sigmoid, data_sub_plko_rep['min'], data_sub_plko_rep['MFR_norm'], maxfev=25000, bounds=sigmoid_bounds)\n",
    "    array_params_plko[replicate - 1, :] = params_plko\n",
    "\n",
    "\n",
    "# MANOVA\n",
    "\n",
    "# Assuming you have parameter arrays for categories A and B:\n",
    "# params_A = np.array([[L1_A, k1_A, t01_A], [L2_A, k2_A, t02_A], ...])\n",
    "# params_B = np.array([[L1_B, k1_B, t01_B], [L2_B, k2_B, t02_B], ...])\n",
    "\n",
    "# Combine and label the data\n",
    "params = np.vstack((array_params_219, array_params_plko))\n",
    "labels = [0] * len(array_params_219) + [1] * len(array_params_plko)\n",
    "\n",
    "# Perform MANOVA\n",
    "maov = MANOVA(endog=params, exog=labels)\n",
    "print(maov.mv_test())"
   ]
  },
  {
   "cell_type": "code",
   "execution_count": null,
   "metadata": {},
   "outputs": [],
   "source": [
    "param_names = [\"L\", \"k\", \"t0\", \"S\"]\n",
    "p_values = []\n",
    "\n",
    "# Conduct t-tests for each parameter\n",
    "for idx, parameter in enumerate(param_names):\n",
    "    t_stat, p_val = sts.ttest_ind(array_params_219[:, idx], array_params_plko[:, idx])\n",
    "    print(f\"T-test for {parameter}: t-stat={t_stat}, p-value={p_val}\")\n",
    "    p_values.append(p_val)\n",
    "\n",
    "# Adjust p-values for multiple comparisons using the Bonferroni correction\n",
    "corrected_p_values = multipletests(p_values, method='fdr_twostage')[1]\n",
    "print('\\n')\n",
    "# Display the corrected p-values\n",
    "for param, corrected_p_val in zip(param_names, corrected_p_values):\n",
    "    print(f\"Corrected p-value for {param}: {corrected_p_val}\")"
   ]
  },
  {
   "cell_type": "code",
   "execution_count": null,
   "metadata": {},
   "outputs": [],
   "source": [
    "data = pd.DataFrame(np.vstack((array_params_219, array_params_plko)), columns=param_names)\n",
    "data['Group'] = ['219'] * len(array_params_219) + ['-'] * len(array_params_plko)\n",
    "data['replicate'] = data_sub[data_sub['condition'] == 'H 219']['replicate'].unique().tolist() + data_sub[data_sub['condition'] == 'H PLKO']['replicate'].unique().tolist() \n",
    "\n",
    "# Set up the plotting environment\n",
    "sns.set_theme(style=\"whitegrid\")\n",
    "\n",
    "# Create a plot for each parameter\n",
    "fig, axes = plt.subplots(1, len(param_names), figsize=(20, 5), sharey=False)\n",
    "\n",
    "for i, param in enumerate(param_names):\n",
    "    sns.swarmplot(x='Group', y=param, data=data, hue='replicate', ax=axes[i], size=7)\n",
    "    axes[i].set_title(f'Distribution of {param}')\n",
    "    axes[i].set_xlabel('Group')\n",
    "    axes[i].set_ylabel(param)\n",
    "\n",
    "plt.tight_layout()\n",
    "plt.show()\n"
   ]
  },
  {
   "cell_type": "code",
   "execution_count": null,
   "metadata": {},
   "outputs": [],
   "source": [
    "data_sub_condition = data_sub[data_sub['condition'] == 'H 219']\n",
    "array_condition = array_params_219\n",
    "plot_sigmoids_condition(data_sub_condition, array_condition)\n",
    "\n",
    "\n",
    "data_sub_condition = data_sub[data_sub['condition'] == 'H PLKO']\n",
    "array_condition = array_params_plko\n",
    "plot_sigmoids_condition(data_sub_condition, array_condition)"
   ]
  },
  {
   "cell_type": "markdown",
   "metadata": {},
   "source": [
    "We see that there is a combined difference in the curves by using a MANOVA analysis (P < 0.0238) but when looking at the individual adjusted p-values, none of them report a clear difference. The most \"different\" value is $S$, which is smallest in PLKO, indicating that the starting/basal MFR is lower. As for the rest of parameters, similar to $S$, $t_0$ is very promising, but not statistically significant, because there is one replicate with very high $t_0$ value (and similarly but opposite in the PLKO condition). If we wouldn't consider this data, it would imply that 219 has a inflexion point much before PLKO."
   ]
  },
  {
   "cell_type": "markdown",
   "metadata": {},
   "source": [
    "## LIPOS 219 vs LIPOS PLKO (removing outliers)"
   ]
  },
  {
   "cell_type": "code",
   "execution_count": null,
   "metadata": {},
   "outputs": [],
   "source": [
    "data_sub = df_MFR_ctrl_exp_12_regress[(df_MFR_ctrl_exp_12_regress['day'] == 0) & (df_MFR_ctrl_exp_12_regress['experiment'] == '1') & (df_MFR_ctrl_exp_12_regress['condition'].isin(['LIPOS 219', 'LIPOS -']))]\n",
    "data_sub = data_sub[data_sub['MFR_norm'] < 3]"
   ]
  },
  {
   "cell_type": "code",
   "execution_count": null,
   "metadata": {},
   "outputs": [],
   "source": [
    "# Example data structure\n",
    "\n",
    "# Fit the mixed-effects model\n",
    "model = mixedlm(\"MFR_norm ~ condition * min\", data_sub, groups=data_sub[\"replicate\"])\n",
    "result = model.fit()\n",
    "print(result.summary())"
   ]
  },
  {
   "cell_type": "code",
   "execution_count": null,
   "metadata": {},
   "outputs": [],
   "source": [
    "data_sub['predicted'] = result.predict()"
   ]
  },
  {
   "cell_type": "code",
   "execution_count": null,
   "metadata": {},
   "outputs": [],
   "source": [
    "# Set the aesthetic style of the plots\n",
    "sns.set_theme(style=\"whitegrid\")\n",
    "\n",
    "# Create a FacetGrid for plotting\n",
    "g = sns.FacetGrid(data_sub, col=\"condition\", height=5, aspect=1.5)\n",
    "\n",
    "# Plot the actual data\n",
    "g.map_dataframe(sns.scatterplot, x=\"min\", y=\"MFR_norm\", hue=\"replicate\", s=50, legend=False)\n",
    "\n",
    "# Plot the model predictions\n",
    "g.map_dataframe(sns.lineplot, x=\"min\", y=\"predicted\", hue=\"replicate\", style=\"replicate\", legend=False, errorbar=None)\n",
    "\n",
    "g.set_axis_labels(\"Time (min)\", \"MFR_norm\")\n",
    "g.set_titles(\"Condition: {col_name}\")\n",
    "\n",
    "plt.show()"
   ]
  },
  {
   "cell_type": "markdown",
   "metadata": {},
   "source": [
    "### Fitting a sigmoid"
   ]
  },
  {
   "cell_type": "code",
   "execution_count": null,
   "metadata": {},
   "outputs": [],
   "source": [
    "# Apply to each replicate\n",
    "data_sub_0 = data_sub[(data_sub['condition'] == 'LIPOS -')  & (data_sub['min'] > 0)]\n",
    "params_0, _ = curve_fit(sigmoid, data_sub_0['min'], data_sub_0['MFR_norm'], maxfev=25000, bounds=sigmoid_bounds)\n",
    "\n",
    "data_sub_219 = data_sub[(data_sub['condition'] == 'LIPOS 219') & (data_sub['min'] > 0)] # Setting >=0 or >0 does nto alter the S values a lot\n",
    "params_219, _ = curve_fit(sigmoid, data_sub_219['min'], data_sub_219['MFR_norm'], maxfev=25000, bounds=sigmoid_bounds)\n",
    "\n",
    "\n",
    "\n",
    "fig, ax = plt.subplots(1,1, figsize=(35,6))\n",
    "sns.boxplot(data=data_sub, x='time_exp', y='MFR_norm', hue = 'condition_experiment', ax=ax)\n",
    "ax.set_ylim([0, 3])\n",
    "\n",
    "plt.plot(np.arange(170)/10, sigmoid(np.arange(170), params_0[0], params_0[1], params_0[2], params_0[3]))\n",
    "plt.plot(np.arange(170)/10, sigmoid(np.arange(170), params_219[0], params_219[1], params_219[2], params_219[3]))\n",
    "\n",
    "plt.show()"
   ]
  },
  {
   "cell_type": "code",
   "execution_count": null,
   "metadata": {},
   "outputs": [],
   "source": [
    "# Replicate and test if the differences between parameters are statistically significant\n",
    "\n",
    "array_params_219 = np.zeros((len(data_sub[data_sub['condition'] == 'LIPOS 219']['replicate'].unique()), 4))\n",
    "array_params_0 = np.zeros((len(data_sub[data_sub['condition'] == 'LIPOS -']['replicate'].unique()), 4))\n",
    "\n",
    "for replicate in data_sub[data_sub['condition'] == 'LIPOS 219']['replicate'].unique():\n",
    "    data_sub_219_rep = data_sub[(data_sub['condition'] == 'LIPOS 219') & (data_sub['replicate'] == replicate) & (data_sub['min'] > 0)] # Setting >=0 or >0 does nto alter the S values a lot\n",
    "    params_219, _ = curve_fit(sigmoid, data_sub_219_rep['min'], data_sub_219_rep['MFR_norm'], maxfev=25000, bounds=sigmoid_bounds)\n",
    "    array_params_219[replicate - 1, :] = params_219\n",
    "\n",
    "for replicate in data_sub[data_sub['condition'] == 'LIPOS -']['replicate'].unique():\n",
    "    data_sub_0_rep = data_sub[(data_sub['condition'] == 'LIPOS -') & (data_sub['replicate'] == replicate) & (data_sub['min'] > 0)] # Setting >=0 or >0 does nto alter the S values a lot\n",
    "    params_0, _ = curve_fit(sigmoid, data_sub_0_rep['min'], data_sub_0_rep['MFR_norm'], maxfev=25000, bounds=sigmoid_bounds)\n",
    "    array_params_0[replicate - 1, :] = params_0\n",
    "\n",
    "\n",
    "# MANOVA\n",
    "# Combine and label the data\n",
    "params = np.vstack((array_params_219, array_params_0))\n",
    "labels = [0] * len(array_params_219) + [1] * len(array_params_0)\n",
    "\n",
    "# Perform MANOVA\n",
    "maov = MANOVA(endog=params, exog=labels)\n",
    "print(maov.mv_test())"
   ]
  },
  {
   "cell_type": "code",
   "execution_count": null,
   "metadata": {},
   "outputs": [],
   "source": [
    "param_names = [\"L\", \"k\", \"t0\", \"S\"]\n",
    "p_values = []\n",
    "\n",
    "# Conduct t-tests for each parameter\n",
    "for idx, parameter in enumerate(param_names):\n",
    "    t_stat, p_val = sts.ttest_ind(array_params_219[:, idx], array_params_0[:, idx])\n",
    "    print(f\"T-test for {parameter}: t-stat={t_stat}, p-value={p_val}\")\n",
    "    p_values.append(p_val)\n",
    "\n",
    "# Adjust p-values for multiple comparisons using the Bonferroni correction\n",
    "corrected_p_values = multipletests(p_values, method='fdr_twostage')[1]\n",
    "print('\\n')\n",
    "# Display the corrected p-values\n",
    "for param, corrected_p_val in zip(param_names, corrected_p_values):\n",
    "    print(f\"Corrected p-value for {param}: {corrected_p_val}\")"
   ]
  },
  {
   "cell_type": "code",
   "execution_count": null,
   "metadata": {},
   "outputs": [],
   "source": [
    "data = pd.DataFrame(np.vstack((array_params_219, array_params_0)), columns=param_names)\n",
    "data['Group'] = ['219'] * len(array_params_219) + ['-'] * len(array_params_0)\n",
    "data['replicate'] = data_sub[data_sub['condition'] == 'LIPOS 219']['replicate'].unique().tolist() + data_sub[data_sub['condition'] == 'LIPOS -']['replicate'].unique().tolist() \n",
    "\n",
    "# Set up the plotting environment\n",
    "sns.set_theme(style=\"whitegrid\")\n",
    "\n",
    "# Create a plot for each parameter\n",
    "fig, axes = plt.subplots(1, len(param_names), figsize=(20, 5), sharey=False)\n",
    "\n",
    "for i, param in enumerate(param_names):\n",
    "    sns.swarmplot(x='Group', y=param, data=data, hue='replicate', ax=axes[i], size=7)\n",
    "    axes[i].set_title(f'Distribution of {param}')\n",
    "    axes[i].set_xlabel('Group')\n",
    "    axes[i].set_ylabel(param)\n",
    "\n",
    "plt.tight_layout()\n",
    "plt.show()"
   ]
  },
  {
   "cell_type": "code",
   "execution_count": null,
   "metadata": {},
   "outputs": [],
   "source": [
    "data_sub_condition = data_sub[data_sub['condition'] == 'LIPOS 219']\n",
    "array_condition = array_params_219\n",
    "plot_sigmoids_condition(data_sub_condition, array_condition)\n",
    "\n",
    "\n",
    "data_sub_condition = data_sub[data_sub['condition'] == 'LIPOS -']\n",
    "array_condition = array_params_0\n",
    "plot_sigmoids_condition(data_sub_condition, array_condition)"
   ]
  },
  {
   "cell_type": "markdown",
   "metadata": {},
   "source": [
    "We see that there is a combined difference in the curves by using a MANOVA analysis (P < 0.0177) but when looking at the individual adjusted p-values, none of them report a clear difference. The most \"different\" value is $t_0$, with a p-value of ~0.01, and adjusted to ~0.05, and shows that t0 is lower in the control than in the 219 sample. This comes in contrast with the $t_0$ differences in the HEK sample."
   ]
  }
 ],
 "metadata": {
  "kernelspec": {
   "display_name": "Python 3 (ipykernel)",
   "language": "python",
   "name": "python3"
  },
  "language_info": {
   "codemirror_mode": {
    "name": "ipython",
    "version": 3
   },
   "file_extension": ".py",
   "mimetype": "text/x-python",
   "name": "python",
   "nbconvert_exporter": "python",
   "pygments_lexer": "ipython3",
   "version": "3.11.4"
  }
 },
 "nbformat": 4,
 "nbformat_minor": 4
}
